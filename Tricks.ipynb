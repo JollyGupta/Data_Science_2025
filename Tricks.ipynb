{
 "cells": [
  {
   "cell_type": "raw",
   "id": "4d0debdf-83d4-42d0-8b3d-fa74e4da4659",
   "metadata": {},
   "source": [
    "pip install contractions"
   ]
  },
  {
   "cell_type": "code",
   "execution_count": 6,
   "id": "0a3c82f6-cc02-412a-8425-486ee3c1d7a7",
   "metadata": {},
   "outputs": [],
   "source": [
    "import contractions"
   ]
  },
  {
   "cell_type": "code",
   "execution_count": 10,
   "id": "0825091b-4ae5-4141-a06d-5d526eb76658",
   "metadata": {},
   "outputs": [
    {
     "name": "stdout",
     "output_type": "stream",
     "text": [
      "I am learning data science, and it is amazing!\n"
     ]
    }
   ],
   "source": [
    "text = \"I'm learning data science, and it's amazing!\"\n",
    "expanded_text = contractions.fix(text)\n",
    "print(expanded_text)"
   ]
  },
  {
   "cell_type": "code",
   "execution_count": 18,
   "id": "6c2da8eb-e31b-48bf-a92f-321331018aa5",
   "metadata": {},
   "outputs": [
    {
     "data": {
      "text/markdown": [
       "**I am learning data science, and it is amazing!**"
      ],
      "text/plain": [
       "<IPython.core.display.Markdown object>"
      ]
     },
     "execution_count": 18,
     "metadata": {},
     "output_type": "execute_result"
    }
   ],
   "source": [
    "from IPython.display import Markdown, display, HTML\n",
    "# Wrap the text in Markdown syntax for bold\n",
    "Markdown(f\"**{expanded_text}**\")"
   ]
  },
  {
   "cell_type": "code",
   "execution_count": 24,
   "id": "b2b61249-a1fe-4726-9c2c-97560352240d",
   "metadata": {},
   "outputs": [
    {
     "data": {
      "text/html": [
       "<b><span style='color:blue;'>I am learning data science, and it is amazing!</span></b>"
      ],
      "text/plain": [
       "<IPython.core.display.HTML object>"
      ]
     },
     "metadata": {},
     "output_type": "display_data"
    }
   ],
   "source": [
    "# Apply bold and color using HTML directly\n",
    "html_text = f\"<b><span style='color:blue;'>{expanded_text}</span></b>\"\n",
    "\n",
    "# Display the formatted text\n",
    "display(HTML(html_text))"
   ]
  },
  {
   "cell_type": "raw",
   "id": "2343ed9c-e4df-4be8-96f5-87186a6c15d7",
   "metadata": {},
   "source": [
    "pip install skimpy \n",
    "# for describe \n",
    "#https://aeturrell.github.io/skimpy/"
   ]
  },
  {
   "cell_type": "raw",
   "id": "e2de5257-7235-4316-b285-a53fd30c46c5",
   "metadata": {},
   "source": [
    "pip install summarytools "
   ]
  },
  {
   "cell_type": "code",
   "execution_count": null,
   "id": "29a6fe84-4624-4f42-831c-3a621c52c302",
   "metadata": {},
   "outputs": [],
   "source": [
    "#https://cosimameyer.com/post/exploratory-data-analysis-in-python/"
   ]
  },
  {
   "cell_type": "code",
   "execution_count": null,
   "id": "eae94a1e-27cc-4204-b954-1aab16cbe6d5",
   "metadata": {},
   "outputs": [],
   "source": [
    "from summarytools import tabset\n",
    "tabset({'Summary': dfSummary(df).render()})\n",
    "\"\"\" not working\"\"\""
   ]
  },
  {
   "cell_type": "raw",
   "id": "f3d14368-639a-4824-9d9d-ea25d8bc9ec1",
   "metadata": {},
   "source": [
    "pip install SweetViz"
   ]
  },
  {
   "cell_type": "raw",
   "id": "84c65956-12a4-4515-88c3-75bfeac0ce6a",
   "metadata": {},
   "source": [
    "pip install sweetviz"
   ]
  },
  {
   "cell_type": "code",
   "execution_count": null,
   "id": "09a99d2e-04a4-41f0-ab97-d3966ccb1208",
   "metadata": {},
   "outputs": [],
   "source": [
    "import sweetviz as sv\n",
    "\n",
    "report = sv.analyze(df)\n",
    "#report.show_notebook(layout=\"vertical\", w=800, h=700, scale=0.8)\n",
    "report.show_html('report.html')  # Save as an HTML file"
   ]
  },
  {
   "cell_type": "raw",
   "id": "086489e1-393d-448f-8373-6ed7373add66",
   "metadata": {},
   "source": [
    "pip install autoviz"
   ]
  },
  {
   "cell_type": "code",
   "execution_count": null,
   "id": "1be86466-f6fc-4fa3-939e-86ee03ae2551",
   "metadata": {},
   "outputs": [],
   "source": [
    "#https://cosimameyer.com/post/exploratory-data-analysis-in-python/"
   ]
  },
  {
   "cell_type": "code",
   "execution_count": null,
   "id": "5607df70-ccc8-4351-b0d0-829fd455594f",
   "metadata": {},
   "outputs": [],
   "source": [
    "from autoviz.AutoViz_Class import AutoViz_Class\n",
    "AV = AutoViz_Class()\n",
    "AV.AutoViz('healthcare_dataset_new.csv') "
   ]
  },
  {
   "cell_type": "code",
   "execution_count": 20,
   "id": "efe6e7a2-e91c-4298-b717-13f399fc5bc2",
   "metadata": {},
   "outputs": [
    {
     "name": "stdout",
     "output_type": "stream",
     "text": [
      "Note: you may need to restart the kernel to use updated packages.\n"
     ]
    },
    {
     "name": "stderr",
     "output_type": "stream",
     "text": [
      "ERROR: Ignored the following versions that require a different python version: 0.1.0 Requires-Python >=3.6, <3.9; 0.1a1 Requires-Python >=3.6, <3.9\n",
      "ERROR: Could not find a version that satisfies the requirement ydata_quality (from versions: none)\n",
      "ERROR: No matching distribution found for ydata_quality\n"
     ]
    }
   ],
   "source": [
    "pip install ydata_quality"
   ]
  },
  {
   "cell_type": "code",
   "execution_count": null,
   "id": "e0316f46-434c-46a2-accb-11cce57227fe",
   "metadata": {},
   "outputs": [],
   "source": [
    "from ydata_quality import DataQuality\n",
    "dq = DataQuality(df)\n",
    "duplicate_report = dq.duplicates()\n",
    "# not working "
   ]
  },
  {
   "cell_type": "code",
   "execution_count": null,
   "id": "14f01758-069d-4737-b235-2f6eb25755d8",
   "metadata": {},
   "outputs": [],
   "source": [
    "\"\"\"https://cosimameyer.com/post/exploratory-data-analysis-in-python/\"\"\""
   ]
  },
  {
   "cell_type": "code",
   "execution_count": null,
   "id": "aa0d2a36-b95d-4adb-b528-808fc68dda4d",
   "metadata": {},
   "outputs": [],
   "source": [
    "\"\"\"https://www.telm.ai/blog/8-essential-python-libraries-for-mastering-data-quality-checks/\"\"\""
   ]
  },
  {
   "cell_type": "code",
   "execution_count": null,
   "id": "419d5a9c-ed82-4925-b12d-a01da68003be",
   "metadata": {},
   "outputs": [],
   "source": [
    "#https://blog.devgenius.io/5-essential-data-quality-checks-you-can-perform-with-python-18fc87655950"
   ]
  },
  {
   "cell_type": "code",
   "execution_count": null,
   "id": "9a1fb596-9c8f-46c8-9222-6b6b004d82a6",
   "metadata": {},
   "outputs": [],
   "source": [
    "#https://pypi.org/project/summarytools/"
   ]
  },
  {
   "cell_type": "code",
   "execution_count": null,
   "id": "19d25c47-a5e1-4ac7-b763-46d77d1edcc8",
   "metadata": {},
   "outputs": [],
   "source": [
    "from autoviz.AutoViz_Class import AutoViz_Class\n",
    "AV = AutoViz_Class()\n",
    "AV.AutoViz('healthcare_dataset_new.csv') "
   ]
  },
  {
   "cell_type": "raw",
   "id": "94d59f8e-bf01-4c0a-8eed-cbd52f0728f8",
   "metadata": {},
   "source": [
    "!pip install ipywidgets\n"
   ]
  },
  {
   "cell_type": "raw",
   "id": "88cc81c1-e06d-4ab0-a3bb-7cae06e173f8",
   "metadata": {},
   "source": [
    "pip install ipywidgets"
   ]
  },
  {
   "cell_type": "code",
   "execution_count": 66,
   "id": "bdbe8393-76b4-45e0-bf6e-15397babb087",
   "metadata": {},
   "outputs": [],
   "source": [
    "from ipywidgets import interact"
   ]
  },
  {
   "cell_type": "code",
   "execution_count": 51,
   "id": "ed53fa76-9230-4d0d-9b7d-03d22cf204e0",
   "metadata": {},
   "outputs": [
    {
     "data": {
      "text/plain": [
       "25"
      ]
     },
     "metadata": {},
     "output_type": "display_data"
    },
    {
     "data": {
      "application/vnd.jupyter.widget-view+json": {
       "model_id": "5a8f54e1abf3486a8b7207eeeb1d43bd",
       "version_major": 2,
       "version_minor": 0
      },
      "text/plain": [
       "interactive(children=(IntSlider(value=5, description='x', max=10), Output()), _dom_classes=('widget-interact',…"
      ]
     },
     "metadata": {},
     "output_type": "display_data"
    }
   ],
   "source": [
    "def square(x):\n",
    "    return x ** 2\n",
    "\n",
    "interact(square, x=(0, 10));  # Slider will appear for x between 0 and 10\n"
   ]
  },
  {
   "cell_type": "code",
   "execution_count": 55,
   "id": "124fdea9-a194-4e89-9c2d-cae3c34265ac",
   "metadata": {},
   "outputs": [
    {
     "data": {
      "text/plain": [
       "314.1592653589793"
      ]
     },
     "metadata": {},
     "output_type": "display_data"
    },
    {
     "data": {
      "application/vnd.jupyter.widget-view+json": {
       "model_id": "4b89ca4fe0fe4a3994de100cecc1b842",
       "version_major": 2,
       "version_minor": 0
      },
      "text/plain": [
       "interactive(children=(IntSlider(value=10, description='radius', max=20), Output()), _dom_classes=('widget-inte…"
      ]
     },
     "metadata": {},
     "output_type": "display_data"
    }
   ],
   "source": [
    "import math\n",
    "\n",
    "@interact\n",
    "def circle_area(radius=(0, 20)):\n",
    "    return math.pi * radius ** 2"
   ]
  },
  {
   "cell_type": "code",
   "execution_count": 61,
   "id": "952e1dfd-e6ab-4b1f-8ef5-baa5c01f9e55",
   "metadata": {},
   "outputs": [
    {
     "data": {
      "text/plain": [
       "'You selected: Red'"
      ]
     },
     "metadata": {},
     "output_type": "display_data"
    },
    {
     "data": {
      "application/vnd.jupyter.widget-view+json": {
       "model_id": "5a2da624035e42e8af91912ed439e257",
       "version_major": 2,
       "version_minor": 0
      },
      "text/plain": [
       "interactive(children=(Dropdown(description='color', options=('Red', 'Green', 'Blue', 'Yellow'), value='Red'), …"
      ]
     },
     "metadata": {},
     "output_type": "display_data"
    }
   ],
   "source": [
    "@interact\n",
    "def favorite_color(color=[\"Red\", \"Green\", \"Blue\", \"Yellow\"]):\n",
    "    return f\"You selected: {color}\"\n"
   ]
  },
  {
   "cell_type": "code",
   "execution_count": 65,
   "id": "66d7097f-0936-46f6-8f4e-3fe9ebc6c0fa",
   "metadata": {},
   "outputs": [
    {
     "data": {
      "text/plain": [
       "'HELLO'"
      ]
     },
     "metadata": {},
     "output_type": "display_data"
    },
    {
     "data": {
      "application/vnd.jupyter.widget-view+json": {
       "model_id": "f070b9fbfccf42e9a910e83cecff8d1b",
       "version_major": 2,
       "version_minor": 0
      },
      "text/plain": [
       "interactive(children=(Text(value='hello', description='text'), Checkbox(value=True, description='uppercase'), …"
      ]
     },
     "metadata": {},
     "output_type": "display_data"
    }
   ],
   "source": [
    "@interact\n",
    "def shout(text=\"hello\", uppercase=True):\n",
    "    if uppercase:\n",
    "        return text.upper()\n",
    "    return text\n"
   ]
  },
  {
   "cell_type": "code",
   "execution_count": 58,
   "id": "ee075f0a-99fb-4675-8e6a-286fa86ff8d5",
   "metadata": {},
   "outputs": [],
   "source": [
    "from ipywidgets import interact, interactive, fixed, interact_manual\n",
    "import ipywidgets as widgets"
   ]
  },
  {
   "cell_type": "code",
   "execution_count": 67,
   "id": "efbb0a5e-1a0e-42c5-bc3a-f850112c0b62",
   "metadata": {},
   "outputs": [],
   "source": [
    "def f(x):\n",
    "    return x"
   ]
  },
  {
   "cell_type": "code",
   "execution_count": 69,
   "id": "c852af20-5d14-418f-ba83-a27648ed63f3",
   "metadata": {},
   "outputs": [
    {
     "data": {
      "text/plain": [
       "10"
      ]
     },
     "metadata": {},
     "output_type": "display_data"
    },
    {
     "data": {
      "application/vnd.jupyter.widget-view+json": {
       "model_id": "0754ef01110f491584a78858ec12bbaa",
       "version_major": 2,
       "version_minor": 0
      },
      "text/plain": [
       "interactive(children=(IntSlider(value=10, description='x', max=30, min=-10), Output()), _dom_classes=('widget-…"
      ]
     },
     "metadata": {},
     "output_type": "display_data"
    }
   ],
   "source": [
    "interact(f, x=10);"
   ]
  },
  {
   "cell_type": "raw",
   "id": "f5986f19-dcd8-4259-965b-43377138271e",
   "metadata": {},
   "source": [
    "import datetime\n",
    "@interact\n",
    "def select_date(date=datetime.date.today()):\n",
    "    return f\"The selected date is {date}, which is a {date.strftime('%A')}.\"\n"
   ]
  },
  {
   "cell_type": "code",
   "execution_count": 41,
   "id": "45cf0112-5d97-49e8-84a9-84d8c9ed5ed6",
   "metadata": {},
   "outputs": [
    {
     "data": {
      "application/vnd.jupyter.widget-view+json": {
       "model_id": "926f65baa72a4fcf89f6dc38bc049219",
       "version_major": 2,
       "version_minor": 0
      },
      "text/plain": [
       "Dropdown(description='Number:', index=1, options=('1', '2', '3'), value='2')"
      ]
     },
     "metadata": {},
     "output_type": "display_data"
    }
   ],
   "source": [
    "widgets.Dropdown(\n",
    "    options=['1', '2', '3'],\n",
    "    value='2',\n",
    "    description='Number:',\n",
    "    disabled=False,\n",
    ")"
   ]
  },
  {
   "cell_type": "code",
   "execution_count": 64,
   "id": "e117b327-44fd-401c-b1f2-1c97bb41e9ea",
   "metadata": {},
   "outputs": [
    {
     "data": {
      "application/vnd.jupyter.widget-view+json": {
       "model_id": "b7a90ff271774bc7b66ae772fc97cf11",
       "version_major": 2,
       "version_minor": 0
      },
      "text/plain": [
       "interactive(children=(Text(value='Hi there!', description='x'), Output()), _dom_classes=('widget-interact',))"
      ]
     },
     "metadata": {},
     "output_type": "display_data"
    }
   ],
   "source": [
    "interact(f, x='Hi there!');"
   ]
  },
  {
   "cell_type": "code",
   "execution_count": 76,
   "id": "f2f4bfd2-ef7c-4c05-acc0-d5f1ad6dc1e0",
   "metadata": {},
   "outputs": [
    {
     "name": "stdout",
     "output_type": "stream",
     "text": [
      "7.8.1\n"
     ]
    }
   ],
   "source": [
    "import ipywidgets as widgets\n",
    "\n",
    "print(widgets.__version__)"
   ]
  },
  {
   "cell_type": "raw",
   "id": "fc509e5e-f090-4dc2-bd3b-adae9024cb9a",
   "metadata": {},
   "source": [
    "!pip install ipywidgets --upgrade"
   ]
  },
  {
   "cell_type": "code",
   "execution_count": 82,
   "id": "478884ae-952a-4a50-acff-9584ae1c1bdb",
   "metadata": {},
   "outputs": [
    {
     "name": "stdout",
     "output_type": "stream",
     "text": [
      "7.8.1\n"
     ]
    }
   ],
   "source": [
    "print(widgets.__version__)"
   ]
  },
  {
   "cell_type": "code",
   "execution_count": 78,
   "id": "0be70570-7606-437d-88fb-fe54e9aa524d",
   "metadata": {},
   "outputs": [],
   "source": [
    "from ipywidgets import interact, interactive, interact_manual, interactive_output, fixed"
   ]
  },
  {
   "cell_type": "code",
   "execution_count": 43,
   "id": "48295cd2-0b04-45d8-ba8e-889a175cab5f",
   "metadata": {},
   "outputs": [],
   "source": [
    "def square(x):\n",
    "    return x*x"
   ]
  },
  {
   "cell_type": "code",
   "execution_count": 45,
   "id": "e2858b8d-585b-4624-8bf3-3ada1803a81e",
   "metadata": {},
   "outputs": [
    {
     "data": {
      "text/plain": [
       "25"
      ]
     },
     "metadata": {},
     "output_type": "display_data"
    },
    {
     "data": {
      "application/vnd.jupyter.widget-view+json": {
       "model_id": "4da39715402e429ebc8734d9c6c34e49",
       "version_major": 2,
       "version_minor": 0
      },
      "text/plain": [
       "interactive(children=(IntSlider(value=5, description='x', max=15, min=-5), Output()), _dom_classes=('widget-in…"
      ]
     },
     "metadata": {},
     "output_type": "display_data"
    }
   ],
   "source": [
    "interact(square, x=5);"
   ]
  },
  {
   "cell_type": "code",
   "execution_count": 89,
   "id": "7840e288-9dd1-42f9-b678-a33757531b57",
   "metadata": {},
   "outputs": [
    {
     "data": {
      "application/vnd.jupyter.widget-view+json": {
       "model_id": "aaaca319009f49b4bf5badb2a350005b",
       "version_major": 2,
       "version_minor": 0
      },
      "text/plain": [
       "interactive(children=(IntSlider(value=5, description='x', max=15, min=-5), Output()), _dom_classes=('widget-in…"
      ]
     },
     "metadata": {},
     "output_type": "display_data"
    }
   ],
   "source": [
    "@interact\n",
    "def square(x=5):\n",
    "    return x*x"
   ]
  },
  {
   "cell_type": "code",
   "execution_count": null,
   "id": "1e69c344-5dca-420c-9adb-7fe3badb85b7",
   "metadata": {},
   "outputs": [],
   "source": [
    "#https://ipywidgets.readthedocs.io/en/8.1.5/examples/Using%20Interact.html"
   ]
  },
  {
   "cell_type": "raw",
   "id": "9ddc0938-88ef-409d-8098-26e238af348a",
   "metadata": {},
   "source": [
    "interact(f, x='Hi there!');"
   ]
  },
  {
   "cell_type": "raw",
   "id": "6f289b68-c09e-4f01-a034-6c118019cc24",
   "metadata": {},
   "source": [
    "!pip install notebook --upgrade"
   ]
  },
  {
   "cell_type": "code",
   "execution_count": 28,
   "id": "8cd86f94-25c9-48e0-8af2-a1d1676186af",
   "metadata": {},
   "outputs": [
    {
     "name": "stdout",
     "output_type": "stream",
     "text": [
      "7.2.2\n"
     ]
    }
   ],
   "source": [
    "import notebook\n",
    "print(notebook.__version__)"
   ]
  },
  {
   "cell_type": "raw",
   "id": "9749ea87-8a51-42c7-85c3-7faabe3845b0",
   "metadata": {},
   "source": [
    "!pip install notebook --upgrade"
   ]
  },
  {
   "cell_type": "code",
   "execution_count": 31,
   "id": "1fcb97c4-6eaf-42f8-b132-4433fdf68516",
   "metadata": {},
   "outputs": [
    {
     "name": "stdout",
     "output_type": "stream",
     "text": [
      "7.2.2\n"
     ]
    }
   ],
   "source": [
    "import notebook\n",
    "print(notebook.__version__)"
   ]
  },
  {
   "cell_type": "code",
   "execution_count": 35,
   "id": "05bbbbb5-87e8-434a-b7f8-5a6d8b9f60ce",
   "metadata": {},
   "outputs": [
    {
     "name": "stdout",
     "output_type": "stream",
     "text": [
      "7.2.2\n"
     ]
    }
   ],
   "source": [
    "!jupyter notebook --version"
   ]
  },
  {
   "cell_type": "code",
   "execution_count": 37,
   "id": "fc7f9152-b026-4b0b-9b32-e8c6053d1a36",
   "metadata": {},
   "outputs": [
    {
     "name": "stdout",
     "output_type": "stream",
     "text": [
      "8.1.5\n"
     ]
    }
   ],
   "source": [
    "import ipywidgets as widgets\n",
    "print(widgets.__version__)"
   ]
  },
  {
   "cell_type": "code",
   "execution_count": null,
   "id": "9b35e0f2-b4f1-4b26-a26c-e6d666c83ca1",
   "metadata": {},
   "outputs": [],
   "source": []
  },
  {
   "cell_type": "code",
   "execution_count": null,
   "id": "13d8e27b-0356-42cc-a062-eed4897bdf2c",
   "metadata": {},
   "outputs": [],
   "source": []
  }
 ],
 "metadata": {
  "kernelspec": {
   "display_name": "Python 3 (ipykernel)",
   "language": "python",
   "name": "python3"
  },
  "language_info": {
   "codemirror_mode": {
    "name": "ipython",
    "version": 3
   },
   "file_extension": ".py",
   "mimetype": "text/x-python",
   "name": "python",
   "nbconvert_exporter": "python",
   "pygments_lexer": "ipython3",
   "version": "3.12.4"
  }
 },
 "nbformat": 4,
 "nbformat_minor": 5
}
