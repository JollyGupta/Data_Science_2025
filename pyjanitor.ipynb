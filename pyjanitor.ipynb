{
 "cells": [
  {
   "cell_type": "raw",
   "id": "31403d95-fc14-4c7d-b84f-b7afa338946e",
   "metadata": {},
   "source": [
    "pyjanitor (Advanced Data Cleaning)\n",
    "\n",
    "df.clean_names() → Cleans column names automatically.\n",
    "\n",
    "df.remove_empty() → Removes empty rows and columns.\n",
    "\n",
    "\n",
    "Current functionality includes:\n",
    "\n",
    "    Cleaning columns name (multi-indexes are possible!)   done\n",
    "    \n",
    "    Removing empty rows and columns                       done\n",
    "    \n",
    "    Identifying duplicate entries\n",
    "    \n",
    "    Encoding columns as categorical\n",
    "    \n",
    "    Splitting your data into features and targets (for machine learning)\n",
    "    \n",
    "    Adding, removing, and renaming columns\n",
    "    \n",
    "    Coalesce multiple columns into a single column\n",
    "    \n",
    "    Date conversions (from matlab, excel, unix) to Python datetime format\n",
    "    \n",
    "    Expand a single column that has delimited, categorical values into dummy-encoded variables\n",
    "    \n",
    "    Concatenating and deconcatenating columns, based on a delimiter\n",
    "    \n",
    "    Syntactic sugar for filtering the dataframe based on queries on a column\n",
    "    \n",
    "    Experimental submodules for finance, biology, chemistry, engineering, and pyspark"
   ]
  },
  {
   "cell_type": "code",
   "execution_count": null,
   "id": "75f68bae-e901-410c-9fb5-bb1531fcd166",
   "metadata": {},
   "outputs": [],
   "source": [
    "# https://pypi.org/project/pyjanitor/"
   ]
  },
  {
   "cell_type": "raw",
   "id": "5039d012-69fa-4595-a26e-8130a253622f",
   "metadata": {},
   "source": [
    "!pip install pyjanitor"
   ]
  },
  {
   "cell_type": "code",
   "execution_count": null,
   "id": "bc6792f3-099f-4840-b825-bb6eb69dd5dd",
   "metadata": {},
   "outputs": [],
   "source": [
    "# https://www.geeksforgeeks.org/streamlining-data-cleaning-with-pyjanitor-a-comprehensive-guide/"
   ]
  },
  {
   "cell_type": "code",
   "execution_count": 11,
   "id": "462a911e-6be5-488b-83f2-616fcffe67ee",
   "metadata": {},
   "outputs": [
    {
     "name": "stdout",
     "output_type": "stream",
     "text": [
      "  first_name last!name  age_years_\n",
      "0      Alice     Smith          25\n",
      "1        Bob   Johnson          30\n"
     ]
    }
   ],
   "source": [
    "import pandas as pd\n",
    "import janitor\n",
    "\n",
    "# Sample DataFrame with messy column names\n",
    "\n",
    "df = pd.DataFrame({\n",
    "    \"First Name\": [ \"Alice\", \"Bob\"],\n",
    "    \"Last!Name\": [\"Smith\", \"Johnson\"],\n",
    "    \"Age (Years)\": [25, 30]\n",
    "})\n",
    "\n",
    "# Cleaning column names\n",
    "df = df.clean_names()\n",
    "print(df)\n",
    "\n",
    "\"\"\"Spaces replaced with underscores, special characters removed, and names converted to lowercase!\"\"\""
   ]
  },
  {
   "cell_type": "code",
   "execution_count": 21,
   "id": "03331136-4a9e-4324-8166-7f4f0b8f747e",
   "metadata": {},
   "outputs": [
    {
     "name": "stdout",
     "output_type": "stream",
     "text": [
      "     A  C\n",
      "0  1.0  4\n",
      "1  2.0  5\n",
      "2  NaN  6\n"
     ]
    }
   ],
   "source": [
    "# Sample DataFrame with empty rows and columns\n",
    "\n",
    "df = pd.DataFrame({\n",
    "    \"A\": [1, 2, None],\n",
    "    \"B\": [None, None, None],  # Empty column\n",
    "    \"C\": [4, 5, 6],\n",
    "    \"D\": [None, None, None]   # Empty column\n",
    "})\n",
    "\n",
    "# Removing empty columns and rows\n",
    "df_cleaned = df.remove_empty()\n",
    "\n",
    "print(df_cleaned)\n"
   ]
  },
  {
   "cell_type": "code",
   "execution_count": 23,
   "id": "076759b4-cdd1-4f21-b2c7-aef27bb52072",
   "metadata": {},
   "outputs": [
    {
     "name": "stdout",
     "output_type": "stream",
     "text": [
      "   A  B\n",
      "0  1  x\n",
      "1  2  y\n",
      "3  3  z\n"
     ]
    }
   ],
   "source": [
    "#3️⃣ Identifying Duplicate Entries\n",
    "#✅ Find and remove duplicates\n",
    "\n",
    "df = pd.DataFrame({\"A\": [1, 2, 2, 3], \"B\": [\"x\", \"y\", \"y\", \"z\"]})\n",
    "df = df.drop_duplicates()\n",
    "print(df)"
   ]
  },
  {
   "cell_type": "code",
   "execution_count": 25,
   "id": "35877dc2-a371-4d24-a791-71c51e52a202",
   "metadata": {},
   "outputs": [
    {
     "name": "stdout",
     "output_type": "stream",
     "text": [
      "Category    category\n",
      "dtype: object\n"
     ]
    }
   ],
   "source": [
    "#4️⃣ Encoding Columns as Categorical\n",
    "#✅ Optimizes memory by converting columns to categorical types\n",
    "\n",
    "df = pd.DataFrame({\"Category\": [\"A\", \"B\", \"A\", \"C\"]})\n",
    "df = df.encode_categorical([\"Category\"])\n",
    "print(df.dtypes)\n"
   ]
  },
  {
   "cell_type": "code",
   "execution_count": 27,
   "id": "8db314ca-41c8-4b3c-a082-05321d0809d1",
   "metadata": {},
   "outputs": [
    {
     "ename": "AttributeError",
     "evalue": "'DataFrame' object has no attribute 'split_columns'",
     "output_type": "error",
     "traceback": [
      "\u001b[1;31m---------------------------------------------------------------------------\u001b[0m",
      "\u001b[1;31mAttributeError\u001b[0m                            Traceback (most recent call last)",
      "\u001b[1;32m~\\AppData\\Local\\Temp\\ipykernel_16556\\1598880150.py\u001b[0m in \u001b[0;36m?\u001b[1;34m()\u001b[0m\n\u001b[0;32m      1\u001b[0m \u001b[1;31m#5️⃣ Splitting Data into Features & Targets (ML)\u001b[0m\u001b[1;33m\u001b[0m\u001b[1;33m\u001b[0m\u001b[0m\n\u001b[0;32m      2\u001b[0m \u001b[1;31m#✅ Easily separate features and targets for machine learning\u001b[0m\u001b[1;33m\u001b[0m\u001b[1;33m\u001b[0m\u001b[0m\n\u001b[0;32m      3\u001b[0m \u001b[1;33m\u001b[0m\u001b[0m\n\u001b[0;32m      4\u001b[0m \u001b[0mdf\u001b[0m \u001b[1;33m=\u001b[0m \u001b[0mpd\u001b[0m\u001b[1;33m.\u001b[0m\u001b[0mDataFrame\u001b[0m\u001b[1;33m(\u001b[0m\u001b[1;33m{\u001b[0m\u001b[1;34m\"Feature1\"\u001b[0m\u001b[1;33m:\u001b[0m \u001b[1;33m[\u001b[0m\u001b[1;36m1\u001b[0m\u001b[1;33m,\u001b[0m \u001b[1;36m2\u001b[0m\u001b[1;33m,\u001b[0m \u001b[1;36m3\u001b[0m\u001b[1;33m]\u001b[0m\u001b[1;33m,\u001b[0m \u001b[1;34m\"Feature2\"\u001b[0m\u001b[1;33m:\u001b[0m \u001b[1;33m[\u001b[0m\u001b[1;36m4\u001b[0m\u001b[1;33m,\u001b[0m \u001b[1;36m5\u001b[0m\u001b[1;33m,\u001b[0m \u001b[1;36m6\u001b[0m\u001b[1;33m]\u001b[0m\u001b[1;33m,\u001b[0m \u001b[1;34m\"Target\"\u001b[0m\u001b[1;33m:\u001b[0m \u001b[1;33m[\u001b[0m\u001b[1;36m0\u001b[0m\u001b[1;33m,\u001b[0m \u001b[1;36m1\u001b[0m\u001b[1;33m,\u001b[0m \u001b[1;36m0\u001b[0m\u001b[1;33m]\u001b[0m\u001b[1;33m}\u001b[0m\u001b[1;33m)\u001b[0m\u001b[1;33m\u001b[0m\u001b[1;33m\u001b[0m\u001b[0m\n\u001b[1;32m----> 5\u001b[1;33m \u001b[0mX\u001b[0m\u001b[1;33m,\u001b[0m \u001b[0my\u001b[0m \u001b[1;33m=\u001b[0m \u001b[0mdf\u001b[0m\u001b[1;33m.\u001b[0m\u001b[0msplit_columns\u001b[0m\u001b[1;33m(\u001b[0m\u001b[0mtarget\u001b[0m\u001b[1;33m=\u001b[0m\u001b[1;34m\"Target\"\u001b[0m\u001b[1;33m)\u001b[0m\u001b[1;33m\u001b[0m\u001b[1;33m\u001b[0m\u001b[0m\n\u001b[0m\u001b[0;32m      6\u001b[0m \u001b[0mprint\u001b[0m\u001b[1;33m(\u001b[0m\u001b[0mX\u001b[0m\u001b[1;33m,\u001b[0m \u001b[1;34m\"\\n\"\u001b[0m\u001b[1;33m,\u001b[0m \u001b[0my\u001b[0m\u001b[1;33m)\u001b[0m\u001b[1;33m\u001b[0m\u001b[1;33m\u001b[0m\u001b[0m\n",
      "\u001b[1;32m~\\anaconda3\\Lib\\site-packages\\pandas\\core\\generic.py\u001b[0m in \u001b[0;36m?\u001b[1;34m(self, name)\u001b[0m\n\u001b[0;32m   6200\u001b[0m             \u001b[1;32mand\u001b[0m \u001b[0mname\u001b[0m \u001b[1;32mnot\u001b[0m \u001b[1;32min\u001b[0m \u001b[0mself\u001b[0m\u001b[1;33m.\u001b[0m\u001b[0m_accessors\u001b[0m\u001b[1;33m\u001b[0m\u001b[1;33m\u001b[0m\u001b[0m\n\u001b[0;32m   6201\u001b[0m             \u001b[1;32mand\u001b[0m \u001b[0mself\u001b[0m\u001b[1;33m.\u001b[0m\u001b[0m_info_axis\u001b[0m\u001b[1;33m.\u001b[0m\u001b[0m_can_hold_identifiers_and_holds_name\u001b[0m\u001b[1;33m(\u001b[0m\u001b[0mname\u001b[0m\u001b[1;33m)\u001b[0m\u001b[1;33m\u001b[0m\u001b[1;33m\u001b[0m\u001b[0m\n\u001b[0;32m   6202\u001b[0m         \u001b[1;33m)\u001b[0m\u001b[1;33m:\u001b[0m\u001b[1;33m\u001b[0m\u001b[1;33m\u001b[0m\u001b[0m\n\u001b[0;32m   6203\u001b[0m             \u001b[1;32mreturn\u001b[0m \u001b[0mself\u001b[0m\u001b[1;33m[\u001b[0m\u001b[0mname\u001b[0m\u001b[1;33m]\u001b[0m\u001b[1;33m\u001b[0m\u001b[1;33m\u001b[0m\u001b[0m\n\u001b[1;32m-> 6204\u001b[1;33m         \u001b[1;32mreturn\u001b[0m \u001b[0mobject\u001b[0m\u001b[1;33m.\u001b[0m\u001b[0m__getattribute__\u001b[0m\u001b[1;33m(\u001b[0m\u001b[0mself\u001b[0m\u001b[1;33m,\u001b[0m \u001b[0mname\u001b[0m\u001b[1;33m)\u001b[0m\u001b[1;33m\u001b[0m\u001b[1;33m\u001b[0m\u001b[0m\n\u001b[0m",
      "\u001b[1;31mAttributeError\u001b[0m: 'DataFrame' object has no attribute 'split_columns'"
     ]
    }
   ],
   "source": [
    "#5️⃣ Splitting Data into Features & Targets (ML)\n",
    "#✅ Easily separate features and targets for machine learning\n",
    "\n",
    "df = pd.DataFrame({\"Feature1\": [1, 2, 3], \"Feature2\": [4, 5, 6], \"Target\": [0, 1, 0]})\n",
    "X, y = df.split_columns(target=\"Target\")\n",
    "print(X, \"\\n\", y)"
   ]
  },
  {
   "cell_type": "code",
   "execution_count": 29,
   "id": "523093ea-7859-4438-908b-f30f046bb4b5",
   "metadata": {},
   "outputs": [
    {
     "name": "stdout",
     "output_type": "stream",
     "text": [
      "   Alpha  C\n",
      "0      1  5\n",
      "1      2  6\n"
     ]
    },
    {
     "name": "stderr",
     "output_type": "stream",
     "text": [
      "C:\\Users\\hp\\anaconda3\\Lib\\site-packages\\pandas_flavor\\register.py:157: FutureWarning: This function will be deprecated in a 1.x release. Please use `pd.DataFrame.assign` instead.\n",
      "  return method(self._obj, *args, **kwargs)\n",
      "C:\\Users\\hp\\anaconda3\\Lib\\site-packages\\pandas_flavor\\register.py:157: FutureWarning: This function will be deprecated in a 1.x release. Please use `pd.DataFrame.rename` instead.\n",
      "  return method(self._obj, *args, **kwargs)\n",
      "C:\\Users\\hp\\anaconda3\\Lib\\site-packages\\pandas_flavor\\register.py:157: FutureWarning: This function will be deprecated in a 1.x release. Please use `pd.DataFrame.drop` instead.\n",
      "  return method(self._obj, *args, **kwargs)\n"
     ]
    }
   ],
   "source": [
    "#6️⃣ Adding, Removing, & Renaming Columns\n",
    "#✅ Modify columns easily\n",
    "\n",
    "df = pd.DataFrame({\"A\": [1, 2], \"B\": [3, 4]})\n",
    "df = df.add_column(\"C\", [5, 6])  # Add new column\n",
    "df = df.rename_column(\"A\", \"Alpha\")  # Rename column\n",
    "df = df.remove_columns([\"B\"])  # Remove column\n",
    "print(df)"
   ]
  },
  {
   "cell_type": "code",
   "execution_count": 33,
   "id": "b5b63f10-e49c-4680-94b7-a8efa1bcd4e1",
   "metadata": {},
   "outputs": [
    {
     "name": "stdout",
     "output_type": "stream",
     "text": [
      "      A     B  C\n",
      "0  None     y  y\n",
      "1     x  None  x\n"
     ]
    }
   ],
   "source": [
    "#7️⃣ Coalescing Multiple Columns into One\n",
    "#✅ Combine multiple columns while handling NaN\n",
    "\n",
    "df = pd.DataFrame({\"A\": [None, \"x\"], \"B\": [\"y\", None]})\n",
    "df = df.coalesce([\"A\", \"B\"], target_column_name=\"C\")\n",
    "print(df)"
   ]
  },
  {
   "cell_type": "raw",
   "id": "b0b04b7a-8a5c-4e4d-969f-6ea897848f5f",
   "metadata": {},
   "source": [
    "#8️⃣ Date Conversions\n",
    "#✅ Easily convert Excel, Unix, or MATLAB timestamps\n",
    "\n",
    "df = pd.DataFrame({\"date\": [42005, 44000]})\n",
    "df = df.convert_matlab_date(\"date\")\n",
    "print(df)"
   ]
  },
  {
   "cell_type": "code",
   "execution_count": 37,
   "id": "ec7be12b-9b18-4a26-ab2c-e630fda035b2",
   "metadata": {},
   "outputs": [
    {
     "ename": "TypeError",
     "evalue": "expand_column() got an unexpected keyword argument 'separator'",
     "output_type": "error",
     "traceback": [
      "\u001b[1;31m---------------------------------------------------------------------------\u001b[0m",
      "\u001b[1;31mTypeError\u001b[0m                                 Traceback (most recent call last)",
      "Cell \u001b[1;32mIn[37], line 5\u001b[0m\n\u001b[0;32m      1\u001b[0m \u001b[38;5;66;03m#9️⃣ Expanding Categorical Columns\u001b[39;00m\n\u001b[0;32m      2\u001b[0m \u001b[38;5;66;03m#✅ Convert a single column with delimited values into separate dummy variables\u001b[39;00m\n\u001b[0;32m      4\u001b[0m df \u001b[38;5;241m=\u001b[39m pd\u001b[38;5;241m.\u001b[39mDataFrame({\u001b[38;5;124m\"\u001b[39m\u001b[38;5;124mCategory\u001b[39m\u001b[38;5;124m\"\u001b[39m: [\u001b[38;5;124m\"\u001b[39m\u001b[38;5;124mA|B\u001b[39m\u001b[38;5;124m\"\u001b[39m, \u001b[38;5;124m\"\u001b[39m\u001b[38;5;124mB|C\u001b[39m\u001b[38;5;124m\"\u001b[39m, \u001b[38;5;124m\"\u001b[39m\u001b[38;5;124mA|C\u001b[39m\u001b[38;5;124m\"\u001b[39m]})\n\u001b[1;32m----> 5\u001b[0m df \u001b[38;5;241m=\u001b[39m df\u001b[38;5;241m.\u001b[39mexpand_column(\u001b[38;5;124m\"\u001b[39m\u001b[38;5;124mCategory\u001b[39m\u001b[38;5;124m\"\u001b[39m, separator\u001b[38;5;241m=\u001b[39m\u001b[38;5;124m\"\u001b[39m\u001b[38;5;124m|\u001b[39m\u001b[38;5;124m\"\u001b[39m)\n\u001b[0;32m      6\u001b[0m \u001b[38;5;28mprint\u001b[39m(df)\n",
      "File \u001b[1;32m~\\anaconda3\\Lib\\site-packages\\pandas_flavor\\register.py:157\u001b[0m, in \u001b[0;36mregister_dataframe_method.<locals>.inner.<locals>.AccessorMethod.__call__\u001b[1;34m(self, *args, **kwargs)\u001b[0m\n\u001b[0;32m    155\u001b[0m \u001b[38;5;28;01mglobal\u001b[39;00m method_call_ctx_factory\n\u001b[0;32m    156\u001b[0m \u001b[38;5;28;01mif\u001b[39;00m method_call_ctx_factory \u001b[38;5;129;01mis\u001b[39;00m \u001b[38;5;28;01mNone\u001b[39;00m:\n\u001b[1;32m--> 157\u001b[0m     \u001b[38;5;28;01mreturn\u001b[39;00m method(\u001b[38;5;28mself\u001b[39m\u001b[38;5;241m.\u001b[39m_obj, \u001b[38;5;241m*\u001b[39margs, \u001b[38;5;241m*\u001b[39m\u001b[38;5;241m*\u001b[39mkwargs)\n\u001b[0;32m    159\u001b[0m \u001b[38;5;28;01mreturn\u001b[39;00m handle_pandas_extension_call(\n\u001b[0;32m    160\u001b[0m     method, method_signature, \u001b[38;5;28mself\u001b[39m\u001b[38;5;241m.\u001b[39m_obj, args, kwargs\n\u001b[0;32m    161\u001b[0m )\n",
      "File \u001b[1;32m~\\anaconda3\\Lib\\site-packages\\janitor\\utils.py:300\u001b[0m, in \u001b[0;36mdeprecated_alias.<locals>.decorator.<locals>.wrapper\u001b[1;34m(*args, **kwargs)\u001b[0m\n\u001b[0;32m    297\u001b[0m \u001b[38;5;129m@wraps\u001b[39m(func)\n\u001b[0;32m    298\u001b[0m \u001b[38;5;28;01mdef\u001b[39;00m \u001b[38;5;21mwrapper\u001b[39m(\u001b[38;5;241m*\u001b[39margs, \u001b[38;5;241m*\u001b[39m\u001b[38;5;241m*\u001b[39mkwargs):\n\u001b[0;32m    299\u001b[0m     rename_kwargs(func\u001b[38;5;241m.\u001b[39m\u001b[38;5;18m__name__\u001b[39m, kwargs, aliases)\n\u001b[1;32m--> 300\u001b[0m     \u001b[38;5;28;01mreturn\u001b[39;00m func(\u001b[38;5;241m*\u001b[39margs, \u001b[38;5;241m*\u001b[39m\u001b[38;5;241m*\u001b[39mkwargs)\n",
      "\u001b[1;31mTypeError\u001b[0m: expand_column() got an unexpected keyword argument 'separator'"
     ]
    }
   ],
   "source": [
    "#9️⃣ Expanding Categorical Columns\n",
    "#✅ Convert a single column with delimited values into separate dummy variables\n",
    "\n",
    "df = pd.DataFrame({\"Category\": [\"A|B\", \"B|C\", \"A|C\"]})\n",
    "df = df.expand_column(\"Category\", separator=\"|\")\n",
    "print(df)"
   ]
  },
  {
   "cell_type": "code",
   "execution_count": 43,
   "id": "839c4838-4d53-4b69-ba56-6f845ec8e205",
   "metadata": {},
   "outputs": [
    {
     "name": "stdout",
     "output_type": "stream",
     "text": [
      "   A  B\n",
      "1  2  y\n",
      "2  3  z\n"
     ]
    },
    {
     "name": "stderr",
     "output_type": "stream",
     "text": [
      "C:\\Users\\hp\\anaconda3\\Lib\\site-packages\\pandas_flavor\\register.py:157: FutureWarning: This function will be deprecated in a 1.x release. Please use `pd.DataFrame.query` instead.\n",
      "  return method(self._obj, *args, **kwargs)\n",
      "C:\\Users\\hp\\anaconda3\\Lib\\site-packages\\pandas_flavor\\register.py:157: DeprecationWarning: This function will be deprecated in a 1.x release. Kindly use `pd.DataFrame.query` instead.\n",
      "  return method(self._obj, *args, **kwargs)\n"
     ]
    }
   ],
   "source": [
    "#🔟 Filtering DataFrame Using Queries\n",
    "#✅ Easier filtering syntax\n",
    "\n",
    "df = pd.DataFrame({\n",
    "    \"A\": [1, 2, 3],\n",
    "    \"B\": [\"x\", \"y\", \"z\"]\n",
    "})\n",
    "\n",
    "# Correct way using pyjanitor\n",
    "filtered_df = df.filter_on(\"A > 1\")\n",
    "print(filtered_df)\n"
   ]
  },
  {
   "cell_type": "code",
   "execution_count": null,
   "id": "fee80532-0e50-418c-a1a4-80d8d07117fe",
   "metadata": {},
   "outputs": [],
   "source": []
  }
 ],
 "metadata": {
  "kernelspec": {
   "display_name": "Python 3 (ipykernel)",
   "language": "python",
   "name": "python3"
  },
  "language_info": {
   "codemirror_mode": {
    "name": "ipython",
    "version": 3
   },
   "file_extension": ".py",
   "mimetype": "text/x-python",
   "name": "python",
   "nbconvert_exporter": "python",
   "pygments_lexer": "ipython3",
   "version": "3.12.4"
  }
 },
 "nbformat": 4,
 "nbformat_minor": 5
}
