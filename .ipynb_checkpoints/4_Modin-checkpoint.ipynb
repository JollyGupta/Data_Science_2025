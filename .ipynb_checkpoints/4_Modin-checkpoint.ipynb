{
 "cells": [
  {
   "cell_type": "markdown",
   "id": "2e92d7d9-0e44-4540-b74b-5f0bacd62de0",
   "metadata": {},
   "source": [
    "**How to Speed Up Pandas with Modin.Modin is a python library very similar to pandas (almost identical in terms of syntax) capable of handling a huge dataset that cannot fit into RAM in one go. Pandas are good enough in terms of speed of execution for datasets in size of in MB’s and few GB’s but when we are dealing with really large datasets speed to process the data becomes the bottleneck.**"
   ]
  },
  {
   "cell_type": "code",
   "execution_count": null,
   "id": "8bbd012b-cc9e-4bb0-895d-69c8bb252454",
   "metadata": {},
   "outputs": [],
   "source": [
    "#https://towardsdatascience.com/how-to-speed-up-pandas-with-modin-84aa6a87bcdb\n",
    "#https://towardsdatascience.com/how-to-speed-up-pandas-with-modin-84aa6a87bcdb"
   ]
  },
  {
   "cell_type": "markdown",
   "id": "ff208ed9-9c9d-4dff-aad0-c51800efcdd2",
   "metadata": {},
   "source": [
    "**Modin is 4.4x Times faster than pandas.**"
   ]
  },
  {
   "cell_type": "code",
   "execution_count": 6,
   "id": "73113427-163b-4cd0-8af7-a289be0c2cbc",
   "metadata": {},
   "outputs": [
    {
     "name": "stdout",
     "output_type": "stream",
     "text": [
      "Collecting modin[ray]\n",
      "  Downloading modin-0.32.0-py3-none-any.whl.metadata (17 kB)\n",
      "Collecting pandas<2.3,>=2.2 (from modin[ray])\n",
      "  Downloading pandas-2.2.3-cp312-cp312-win_amd64.whl.metadata (19 kB)\n",
      "Requirement already satisfied: packaging>=21.0 in c:\\users\\dell\\anaconda3\\lib\\site-packages (from modin[ray]) (23.2)\n",
      "Requirement already satisfied: numpy>=1.22.4 in c:\\users\\dell\\anaconda3\\lib\\site-packages (from modin[ray]) (1.26.4)\n",
      "Requirement already satisfied: fsspec>=2022.11.0 in c:\\users\\dell\\anaconda3\\lib\\site-packages (from modin[ray]) (2024.3.1)\n",
      "Requirement already satisfied: psutil>=5.8.0 in c:\\users\\dell\\anaconda3\\lib\\site-packages (from modin[ray]) (5.9.0)\n",
      "Collecting ray!=2.5.0,>=2.1.0 (from modin[ray])\n",
      "  Downloading ray-2.38.0-cp312-cp312-win_amd64.whl.metadata (17 kB)\n",
      "Requirement already satisfied: pyarrow>=10.0.1 in c:\\users\\dell\\anaconda3\\lib\\site-packages (from modin[ray]) (14.0.2)\n",
      "Requirement already satisfied: python-dateutil>=2.8.2 in c:\\users\\dell\\anaconda3\\lib\\site-packages (from pandas<2.3,>=2.2->modin[ray]) (2.9.0.post0)\n",
      "Requirement already satisfied: pytz>=2020.1 in c:\\users\\dell\\anaconda3\\lib\\site-packages (from pandas<2.3,>=2.2->modin[ray]) (2024.1)\n",
      "Requirement already satisfied: tzdata>=2022.7 in c:\\users\\dell\\anaconda3\\lib\\site-packages (from pandas<2.3,>=2.2->modin[ray]) (2023.3)\n",
      "Requirement already satisfied: click>=7.0 in c:\\users\\dell\\anaconda3\\lib\\site-packages (from ray!=2.5.0,>=2.1.0->modin[ray]) (8.1.7)\n",
      "Requirement already satisfied: filelock in c:\\users\\dell\\anaconda3\\lib\\site-packages (from ray!=2.5.0,>=2.1.0->modin[ray]) (3.13.1)\n",
      "Requirement already satisfied: jsonschema in c:\\users\\dell\\anaconda3\\lib\\site-packages (from ray!=2.5.0,>=2.1.0->modin[ray]) (4.19.2)\n",
      "Requirement already satisfied: msgpack<2.0.0,>=1.0.0 in c:\\users\\dell\\anaconda3\\lib\\site-packages (from ray!=2.5.0,>=2.1.0->modin[ray]) (1.0.3)\n",
      "Requirement already satisfied: protobuf!=3.19.5,>=3.15.3 in c:\\users\\dell\\anaconda3\\lib\\site-packages (from ray!=2.5.0,>=2.1.0->modin[ray]) (3.20.3)\n",
      "Requirement already satisfied: pyyaml in c:\\users\\dell\\anaconda3\\lib\\site-packages (from ray!=2.5.0,>=2.1.0->modin[ray]) (6.0.1)\n",
      "Requirement already satisfied: aiosignal in c:\\users\\dell\\anaconda3\\lib\\site-packages (from ray!=2.5.0,>=2.1.0->modin[ray]) (1.2.0)\n",
      "Requirement already satisfied: frozenlist in c:\\users\\dell\\anaconda3\\lib\\site-packages (from ray!=2.5.0,>=2.1.0->modin[ray]) (1.4.0)\n",
      "Requirement already satisfied: requests in c:\\users\\dell\\anaconda3\\lib\\site-packages (from ray!=2.5.0,>=2.1.0->modin[ray]) (2.32.2)\n",
      "Requirement already satisfied: colorama in c:\\users\\dell\\anaconda3\\lib\\site-packages (from click>=7.0->ray!=2.5.0,>=2.1.0->modin[ray]) (0.4.6)\n",
      "Requirement already satisfied: six>=1.5 in c:\\users\\dell\\anaconda3\\lib\\site-packages (from python-dateutil>=2.8.2->pandas<2.3,>=2.2->modin[ray]) (1.16.0)\n",
      "Requirement already satisfied: attrs>=22.2.0 in c:\\users\\dell\\anaconda3\\lib\\site-packages (from jsonschema->ray!=2.5.0,>=2.1.0->modin[ray]) (23.1.0)\n",
      "Requirement already satisfied: jsonschema-specifications>=2023.03.6 in c:\\users\\dell\\anaconda3\\lib\\site-packages (from jsonschema->ray!=2.5.0,>=2.1.0->modin[ray]) (2023.7.1)\n",
      "Requirement already satisfied: referencing>=0.28.4 in c:\\users\\dell\\anaconda3\\lib\\site-packages (from jsonschema->ray!=2.5.0,>=2.1.0->modin[ray]) (0.30.2)\n",
      "Requirement already satisfied: rpds-py>=0.7.1 in c:\\users\\dell\\anaconda3\\lib\\site-packages (from jsonschema->ray!=2.5.0,>=2.1.0->modin[ray]) (0.10.6)\n",
      "Requirement already satisfied: charset-normalizer<4,>=2 in c:\\users\\dell\\anaconda3\\lib\\site-packages (from requests->ray!=2.5.0,>=2.1.0->modin[ray]) (2.0.4)\n",
      "Requirement already satisfied: idna<4,>=2.5 in c:\\users\\dell\\anaconda3\\lib\\site-packages (from requests->ray!=2.5.0,>=2.1.0->modin[ray]) (3.7)\n",
      "Requirement already satisfied: urllib3<3,>=1.21.1 in c:\\users\\dell\\anaconda3\\lib\\site-packages (from requests->ray!=2.5.0,>=2.1.0->modin[ray]) (2.2.2)\n",
      "Requirement already satisfied: certifi>=2017.4.17 in c:\\users\\dell\\anaconda3\\lib\\site-packages (from requests->ray!=2.5.0,>=2.1.0->modin[ray]) (2024.8.30)\n",
      "Downloading pandas-2.2.3-cp312-cp312-win_amd64.whl (11.5 MB)\n",
      "   ---------------------------------------- 0.0/11.5 MB ? eta -:--:--\n",
      "   ---------------------------------------- 0.1/11.5 MB 1.1 MB/s eta 0:00:11\n",
      "    --------------------------------------- 0.2/11.5 MB 2.8 MB/s eta 0:00:05\n",
      "   - -------------------------------------- 0.4/11.5 MB 3.4 MB/s eta 0:00:04\n",
      "   -- ------------------------------------- 0.7/11.5 MB 4.1 MB/s eta 0:00:03\n",
      "   --- ------------------------------------ 1.1/11.5 MB 5.1 MB/s eta 0:00:03\n",
      "   ----- ---------------------------------- 1.5/11.5 MB 5.9 MB/s eta 0:00:02\n",
      "   ------ --------------------------------- 1.8/11.5 MB 6.3 MB/s eta 0:00:02\n",
      "   ------ --------------------------------- 1.8/11.5 MB 6.5 MB/s eta 0:00:02\n",
      "   ------ --------------------------------- 1.8/11.5 MB 6.5 MB/s eta 0:00:02\n",
      "   ------ --------------------------------- 1.9/11.5 MB 5.0 MB/s eta 0:00:02\n",
      "   ---------- ----------------------------- 2.9/11.5 MB 6.7 MB/s eta 0:00:02\n",
      "   ------------ --------------------------- 3.5/11.5 MB 7.2 MB/s eta 0:00:02\n",
      "   ------------- -------------------------- 3.8/11.5 MB 7.1 MB/s eta 0:00:02\n",
      "   --------------- ------------------------ 4.4/11.5 MB 7.5 MB/s eta 0:00:01\n",
      "   --------------- ------------------------ 4.5/11.5 MB 7.2 MB/s eta 0:00:01\n",
      "   ----------------- ---------------------- 5.0/11.5 MB 7.7 MB/s eta 0:00:01\n",
      "   ------------------- -------------------- 5.5/11.5 MB 7.8 MB/s eta 0:00:01\n",
      "   -------------------- ------------------- 5.9/11.5 MB 8.0 MB/s eta 0:00:01\n",
      "   ---------------------- ----------------- 6.4/11.5 MB 8.1 MB/s eta 0:00:01\n",
      "   ---------------------- ----------------- 6.4/11.5 MB 8.2 MB/s eta 0:00:01\n",
      "   ----------------------- ---------------- 6.8/11.5 MB 8.1 MB/s eta 0:00:01\n",
      "   ------------------------- -------------- 7.3/11.5 MB 8.2 MB/s eta 0:00:01\n",
      "   -------------------------- ------------- 7.7/11.5 MB 8.3 MB/s eta 0:00:01\n",
      "   ---------------------------- ----------- 8.1/11.5 MB 8.3 MB/s eta 0:00:01\n",
      "   ---------------------------- ----------- 8.3/11.5 MB 8.3 MB/s eta 0:00:01\n",
      "   ------------------------------ --------- 8.6/11.5 MB 8.4 MB/s eta 0:00:01\n",
      "   ------------------------------- -------- 9.1/11.5 MB 8.5 MB/s eta 0:00:01\n",
      "   --------------------------------- ------ 9.6/11.5 MB 8.5 MB/s eta 0:00:01\n",
      "   ---------------------------------- ----- 10.1/11.5 MB 8.7 MB/s eta 0:00:01\n",
      "   ----------------------------------- ---- 10.2/11.5 MB 8.7 MB/s eta 0:00:01\n",
      "   ------------------------------------ --- 10.5/11.5 MB 9.0 MB/s eta 0:00:01\n",
      "   -------------------------------------- - 11.0/11.5 MB 9.1 MB/s eta 0:00:01\n",
      "   ---------------------------------------  11.5/11.5 MB 9.4 MB/s eta 0:00:01\n",
      "   ---------------------------------------- 11.5/11.5 MB 9.1 MB/s eta 0:00:00\n",
      "Downloading ray-2.38.0-cp312-cp312-win_amd64.whl (25.0 MB)\n",
      "   ---------------------------------------- 0.0/25.0 MB ? eta -:--:--\n",
      "    --------------------------------------- 0.4/25.0 MB 12.9 MB/s eta 0:00:02\n",
      "   - -------------------------------------- 0.9/25.0 MB 14.4 MB/s eta 0:00:02\n",
      "   -- ------------------------------------- 1.5/25.0 MB 11.7 MB/s eta 0:00:03\n",
      "   --- ------------------------------------ 2.1/25.0 MB 13.3 MB/s eta 0:00:02\n",
      "   ---- ----------------------------------- 2.8/25.0 MB 12.6 MB/s eta 0:00:02\n",
      "   ----- ---------------------------------- 3.4/25.0 MB 12.9 MB/s eta 0:00:02\n",
      "   ----- ---------------------------------- 3.6/25.0 MB 11.5 MB/s eta 0:00:02\n",
      "   ------ --------------------------------- 4.1/25.0 MB 11.3 MB/s eta 0:00:02\n",
      "   ------- -------------------------------- 4.6/25.0 MB 11.2 MB/s eta 0:00:02\n",
      "   ------- -------------------------------- 4.9/25.0 MB 10.7 MB/s eta 0:00:02\n",
      "   -------- ------------------------------- 5.3/25.0 MB 10.6 MB/s eta 0:00:02\n",
      "   --------- ------------------------------ 5.8/25.0 MB 10.5 MB/s eta 0:00:02\n",
      "   --------- ------------------------------ 6.2/25.0 MB 10.7 MB/s eta 0:00:02\n",
      "   ---------- ----------------------------- 6.4/25.0 MB 10.3 MB/s eta 0:00:02\n",
      "   ----------- ---------------------------- 7.0/25.0 MB 10.6 MB/s eta 0:00:02\n",
      "   ----------- ---------------------------- 7.0/25.0 MB 10.0 MB/s eta 0:00:02\n",
      "   ------------ --------------------------- 7.5/25.0 MB 10.3 MB/s eta 0:00:02\n",
      "   ------------ --------------------------- 8.0/25.0 MB 10.5 MB/s eta 0:00:02\n",
      "   -------------- ------------------------- 8.8/25.0 MB 10.6 MB/s eta 0:00:02\n",
      "   -------------- ------------------------- 9.3/25.0 MB 10.5 MB/s eta 0:00:02\n",
      "   ---------------- ----------------------- 10.1/25.0 MB 11.0 MB/s eta 0:00:02\n",
      "   ----------------- ---------------------- 10.7/25.0 MB 10.7 MB/s eta 0:00:02\n",
      "   ----------------- ---------------------- 11.1/25.0 MB 10.9 MB/s eta 0:00:02\n",
      "   ------------------ --------------------- 11.8/25.0 MB 10.7 MB/s eta 0:00:02\n",
      "   ------------------- -------------------- 12.1/25.0 MB 10.6 MB/s eta 0:00:02\n",
      "   -------------------- ------------------- 12.7/25.0 MB 10.6 MB/s eta 0:00:02\n",
      "   -------------------- ------------------- 13.1/25.0 MB 10.7 MB/s eta 0:00:02\n",
      "   ---------------------- ----------------- 13.8/25.0 MB 10.7 MB/s eta 0:00:02\n",
      "   ----------------------- ---------------- 14.4/25.0 MB 10.9 MB/s eta 0:00:01\n",
      "   ----------------------- ---------------- 14.6/25.0 MB 10.7 MB/s eta 0:00:01\n",
      "   ------------------------ --------------- 15.5/25.0 MB 11.3 MB/s eta 0:00:01\n",
      "   -------------------------- ------------- 16.3/25.0 MB 11.7 MB/s eta 0:00:01\n",
      "   -------------------------- ------------- 16.8/25.0 MB 11.7 MB/s eta 0:00:01\n",
      "   --------------------------- ------------ 17.5/25.0 MB 12.6 MB/s eta 0:00:01\n",
      "   ---------------------------- ----------- 17.8/25.0 MB 12.4 MB/s eta 0:00:01\n",
      "   ----------------------------- ---------- 18.4/25.0 MB 12.1 MB/s eta 0:00:01\n",
      "   ----------------------------- ---------- 18.7/25.0 MB 11.9 MB/s eta 0:00:01\n",
      "   ------------------------------ --------- 19.3/25.0 MB 11.7 MB/s eta 0:00:01\n",
      "   ------------------------------- -------- 19.6/25.0 MB 11.3 MB/s eta 0:00:01\n",
      "   -------------------------------- ------- 20.1/25.0 MB 11.3 MB/s eta 0:00:01\n",
      "   --------------------------------- ------ 20.6/25.0 MB 11.1 MB/s eta 0:00:01\n",
      "   --------------------------------- ------ 20.9/25.0 MB 11.3 MB/s eta 0:00:01\n",
      "   ---------------------------------- ----- 21.4/25.0 MB 10.9 MB/s eta 0:00:01\n",
      "   ----------------------------------- ---- 22.0/25.0 MB 10.7 MB/s eta 0:00:01\n",
      "   ----------------------------------- ---- 22.4/25.0 MB 10.7 MB/s eta 0:00:01\n",
      "   ------------------------------------ --- 22.7/25.0 MB 10.6 MB/s eta 0:00:01\n",
      "   ------------------------------------- -- 23.4/25.0 MB 10.9 MB/s eta 0:00:01\n",
      "   ------------------------------------- -- 23.6/25.0 MB 10.7 MB/s eta 0:00:01\n",
      "   ---------------------------------------  24.4/25.0 MB 10.6 MB/s eta 0:00:01\n",
      "   ---------------------------------------  25.0/25.0 MB 10.7 MB/s eta 0:00:01\n",
      "   ---------------------------------------  25.0/25.0 MB 10.7 MB/s eta 0:00:01\n",
      "   ---------------------------------------- 25.0/25.0 MB 9.8 MB/s eta 0:00:00\n",
      "Downloading modin-0.32.0-py3-none-any.whl (1.1 MB)\n",
      "   ---------------------------------------- 0.0/1.1 MB ? eta -:--:--\n",
      "   --------------------------- ------------ 0.8/1.1 MB 23.4 MB/s eta 0:00:01\n",
      "   ---------------------------------------  1.1/1.1 MB 11.4 MB/s eta 0:00:01\n",
      "   ---------------------------------------- 1.1/1.1 MB 9.8 MB/s eta 0:00:00\n",
      "Installing collected packages: pandas, modin, ray\n",
      "  Attempting uninstall: pandas\n",
      "    Found existing installation: pandas 2.1.4\n",
      "    Uninstalling pandas-2.1.4:\n",
      "      Successfully uninstalled pandas-2.1.4\n",
      "Successfully installed modin-0.32.0 pandas-2.2.3 ray-2.38.0\n",
      "Note: you may need to restart the kernel to use updated packages.\n"
     ]
    },
    {
     "name": "stderr",
     "output_type": "stream",
     "text": [
      "  WARNING: Failed to remove contents in a temporary directory 'C:\\Users\\dell\\anaconda3\\Lib\\site-packages\\~andas.libs'.\n",
      "  You can safely remove it manually.\n",
      "  WARNING: Failed to remove contents in a temporary directory 'C:\\Users\\dell\\anaconda3\\Lib\\site-packages\\~-ndas'.\n",
      "  You can safely remove it manually.\n",
      "ERROR: pip's dependency resolver does not currently take into account all the packages that are installed. This behaviour is the source of the following dependency conflicts.\n",
      "pycaret 3.3.2 requires pandas<2.2.0, but you have pandas 2.2.3 which is incompatible.\n",
      "sktime 0.26.0 requires pandas<2.2.0,>=1.1, but you have pandas 2.2.3 which is incompatible.\n"
     ]
    }
   ],
   "source": [
    "pip install modin[ray] "
   ]
  },
  {
   "cell_type": "code",
   "execution_count": 10,
   "id": "88f4c5a7-7843-4c05-a0e8-a28e2ee2c079",
   "metadata": {},
   "outputs": [],
   "source": [
    "import os\n",
    "\n",
    "# this specifies the number of\n",
    "# CPUs to use. \n",
    "os.environ[\"MODIN_CPUS\"] = \"2\""
   ]
  },
  {
   "cell_type": "code",
   "execution_count": 26,
   "id": "9c358fec-9b90-4048-833e-60d8d802cd97",
   "metadata": {},
   "outputs": [
    {
     "name": "stderr",
     "output_type": "stream",
     "text": [
      "UserWarning: The pandas version installed (2.1.4) does not match the supported pandas version in Modin (2.2.X). This may cause undesired side effects!\n"
     ]
    },
    {
     "ename": "AttributeError",
     "evalue": "module 'pandas.core.arrays.arrow' has no attribute 'ListAccessor'",
     "output_type": "error",
     "traceback": [
      "\u001b[1;31m---------------------------------------------------------------------------\u001b[0m",
      "\u001b[1;31mAttributeError\u001b[0m                            Traceback (most recent call last)",
      "Cell \u001b[1;32mIn[26], line 2\u001b[0m\n\u001b[0;32m      1\u001b[0m \u001b[38;5;28;01mimport\u001b[39;00m \u001b[38;5;21;01mpandas\u001b[39;00m \u001b[38;5;28;01mas\u001b[39;00m \u001b[38;5;21;01mpd\u001b[39;00m\n\u001b[1;32m----> 2\u001b[0m \u001b[38;5;28;01mimport\u001b[39;00m \u001b[38;5;21;01mmodin\u001b[39;00m\u001b[38;5;21;01m.\u001b[39;00m\u001b[38;5;21;01mpandas\u001b[39;00m \u001b[38;5;28;01mas\u001b[39;00m \u001b[38;5;21;01mmpd\u001b[39;00m\n\u001b[0;32m      4\u001b[0m \u001b[38;5;66;03m# Timing pandas read_csv operation\u001b[39;00m\n\u001b[0;32m      5\u001b[0m get_ipython()\u001b[38;5;241m.\u001b[39mrun_line_magic(\u001b[38;5;124m'\u001b[39m\u001b[38;5;124mtime\u001b[39m\u001b[38;5;124m'\u001b[39m, \u001b[38;5;124m'\u001b[39m\u001b[38;5;124mdf = pd.read_csv(\u001b[39m\u001b[38;5;124m\"\u001b[39m\u001b[38;5;124mhealthcare_dataset_new.csv\u001b[39m\u001b[38;5;124m\"\u001b[39m\u001b[38;5;124m)\u001b[39m\u001b[38;5;124m'\u001b[39m)\n",
      "File \u001b[1;32m~\\anaconda3\\Lib\\site-packages\\modin\\pandas\\__init__.py:144\u001b[0m\n\u001b[0;32m    141\u001b[0m \u001b[38;5;28;01mfrom\u001b[39;00m \u001b[38;5;21;01mmodin\u001b[39;00m\u001b[38;5;21;01m.\u001b[39;00m\u001b[38;5;21;01mutils\u001b[39;00m \u001b[38;5;28;01mimport\u001b[39;00m show_versions\n\u001b[0;32m    143\u001b[0m \u001b[38;5;28;01mfrom\u001b[39;00m \u001b[38;5;21;01m.\u001b[39;00m\u001b[38;5;21;01m.\u001b[39;00m \u001b[38;5;28;01mimport\u001b[39;00m __version__\n\u001b[1;32m--> 144\u001b[0m \u001b[38;5;28;01mfrom\u001b[39;00m \u001b[38;5;21;01m.\u001b[39;00m\u001b[38;5;21;01mdataframe\u001b[39;00m \u001b[38;5;28;01mimport\u001b[39;00m DataFrame\n\u001b[0;32m    145\u001b[0m \u001b[38;5;28;01mfrom\u001b[39;00m \u001b[38;5;21;01m.\u001b[39;00m\u001b[38;5;21;01mgeneral\u001b[39;00m \u001b[38;5;28;01mimport\u001b[39;00m (\n\u001b[0;32m    146\u001b[0m     concat,\n\u001b[0;32m    147\u001b[0m     crosstab,\n\u001b[1;32m   (...)\u001b[0m\n\u001b[0;32m    167\u001b[0m     wide_to_long,\n\u001b[0;32m    168\u001b[0m )\n\u001b[0;32m    169\u001b[0m \u001b[38;5;28;01mfrom\u001b[39;00m \u001b[38;5;21;01m.\u001b[39;00m\u001b[38;5;21;01mio\u001b[39;00m \u001b[38;5;28;01mimport\u001b[39;00m (\n\u001b[0;32m    170\u001b[0m     ExcelFile,\n\u001b[0;32m    171\u001b[0m     HDFStore,\n\u001b[1;32m   (...)\u001b[0m\n\u001b[0;32m    193\u001b[0m     to_pickle,\n\u001b[0;32m    194\u001b[0m )\n",
      "File \u001b[1;32m~\\anaconda3\\Lib\\site-packages\\modin\\pandas\\dataframe.py:76\u001b[0m\n\u001b[0;32m     74\u001b[0m \u001b[38;5;28;01mfrom\u001b[39;00m \u001b[38;5;21;01m.\u001b[39;00m\u001b[38;5;21;01maccessor\u001b[39;00m \u001b[38;5;28;01mimport\u001b[39;00m CachedAccessor, SparseFrameAccessor\n\u001b[0;32m     75\u001b[0m \u001b[38;5;28;01mfrom\u001b[39;00m \u001b[38;5;21;01m.\u001b[39;00m\u001b[38;5;21;01mbase\u001b[39;00m \u001b[38;5;28;01mimport\u001b[39;00m _ATTRS_NO_LOOKUP, BasePandasDataset\n\u001b[1;32m---> 76\u001b[0m \u001b[38;5;28;01mfrom\u001b[39;00m \u001b[38;5;21;01m.\u001b[39;00m\u001b[38;5;21;01mgroupby\u001b[39;00m \u001b[38;5;28;01mimport\u001b[39;00m DataFrameGroupBy\n\u001b[0;32m     77\u001b[0m \u001b[38;5;28;01mfrom\u001b[39;00m \u001b[38;5;21;01m.\u001b[39;00m\u001b[38;5;21;01miterator\u001b[39;00m \u001b[38;5;28;01mimport\u001b[39;00m PartitionIterator\n\u001b[0;32m     78\u001b[0m \u001b[38;5;28;01mfrom\u001b[39;00m \u001b[38;5;21;01m.\u001b[39;00m\u001b[38;5;21;01mseries\u001b[39;00m \u001b[38;5;28;01mimport\u001b[39;00m Series\n",
      "File \u001b[1;32m~\\anaconda3\\Lib\\site-packages\\modin\\pandas\\groupby.py:53\u001b[0m\n\u001b[0;32m     43\u001b[0m \u001b[38;5;28;01mfrom\u001b[39;00m \u001b[38;5;21;01mmodin\u001b[39;00m\u001b[38;5;21;01m.\u001b[39;00m\u001b[38;5;21;01mpandas\u001b[39;00m\u001b[38;5;21;01m.\u001b[39;00m\u001b[38;5;21;01mutils\u001b[39;00m \u001b[38;5;28;01mimport\u001b[39;00m cast_function_modin2pandas\n\u001b[0;32m     44\u001b[0m \u001b[38;5;28;01mfrom\u001b[39;00m \u001b[38;5;21;01mmodin\u001b[39;00m\u001b[38;5;21;01m.\u001b[39;00m\u001b[38;5;21;01mutils\u001b[39;00m \u001b[38;5;28;01mimport\u001b[39;00m (\n\u001b[0;32m     45\u001b[0m     MODIN_UNNAMED_SERIES_LABEL,\n\u001b[0;32m     46\u001b[0m     _inherit_docstrings,\n\u001b[1;32m   (...)\u001b[0m\n\u001b[0;32m     50\u001b[0m     wrap_udf_function,\n\u001b[0;32m     51\u001b[0m )\n\u001b[1;32m---> 53\u001b[0m \u001b[38;5;28;01mfrom\u001b[39;00m \u001b[38;5;21;01m.\u001b[39;00m\u001b[38;5;21;01mseries\u001b[39;00m \u001b[38;5;28;01mimport\u001b[39;00m Series\n\u001b[0;32m     54\u001b[0m \u001b[38;5;28;01mfrom\u001b[39;00m \u001b[38;5;21;01m.\u001b[39;00m\u001b[38;5;21;01mutils\u001b[39;00m \u001b[38;5;28;01mimport\u001b[39;00m is_label\n\u001b[0;32m     55\u001b[0m \u001b[38;5;28;01mfrom\u001b[39;00m \u001b[38;5;21;01m.\u001b[39;00m\u001b[38;5;21;01mwindow\u001b[39;00m \u001b[38;5;28;01mimport\u001b[39;00m RollingGroupby\n",
      "File \u001b[1;32m~\\anaconda3\\Lib\\site-packages\\modin\\pandas\\series.py:46\u001b[0m\n\u001b[0;32m     44\u001b[0m \u001b[38;5;28;01mfrom\u001b[39;00m \u001b[38;5;21;01m.\u001b[39;00m\u001b[38;5;21;01mbase\u001b[39;00m \u001b[38;5;28;01mimport\u001b[39;00m _ATTRS_NO_LOOKUP, BasePandasDataset\n\u001b[0;32m     45\u001b[0m \u001b[38;5;28;01mfrom\u001b[39;00m \u001b[38;5;21;01m.\u001b[39;00m\u001b[38;5;21;01miterator\u001b[39;00m \u001b[38;5;28;01mimport\u001b[39;00m PartitionIterator\n\u001b[1;32m---> 46\u001b[0m \u001b[38;5;28;01mfrom\u001b[39;00m \u001b[38;5;21;01m.\u001b[39;00m\u001b[38;5;21;01mseries_utils\u001b[39;00m \u001b[38;5;28;01mimport\u001b[39;00m (\n\u001b[0;32m     47\u001b[0m     CategoryMethods,\n\u001b[0;32m     48\u001b[0m     DatetimeProperties,\n\u001b[0;32m     49\u001b[0m     ListAccessor,\n\u001b[0;32m     50\u001b[0m     StringMethods,\n\u001b[0;32m     51\u001b[0m     StructAccessor,\n\u001b[0;32m     52\u001b[0m )\n\u001b[0;32m     53\u001b[0m \u001b[38;5;28;01mfrom\u001b[39;00m \u001b[38;5;21;01m.\u001b[39;00m\u001b[38;5;21;01mutils\u001b[39;00m \u001b[38;5;28;01mimport\u001b[39;00m _doc_binary_op, cast_function_modin2pandas, is_scalar\n\u001b[0;32m     55\u001b[0m \u001b[38;5;28;01mif\u001b[39;00m TYPE_CHECKING:\n",
      "File \u001b[1;32m~\\anaconda3\\Lib\\site-packages\\modin\\pandas\\series_utils.py:41\u001b[0m\n\u001b[0;32m     37\u001b[0m     \u001b[38;5;28;01mfrom\u001b[39;00m \u001b[38;5;21;01mmodin\u001b[39;00m\u001b[38;5;21;01m.\u001b[39;00m\u001b[38;5;21;01mcore\u001b[39;00m\u001b[38;5;21;01m.\u001b[39;00m\u001b[38;5;21;01mstorage_formats\u001b[39;00m \u001b[38;5;28;01mimport\u001b[39;00m BaseQueryCompiler\n\u001b[0;32m     38\u001b[0m     \u001b[38;5;28;01mfrom\u001b[39;00m \u001b[38;5;21;01mmodin\u001b[39;00m\u001b[38;5;21;01m.\u001b[39;00m\u001b[38;5;21;01mpandas\u001b[39;00m \u001b[38;5;28;01mimport\u001b[39;00m Series\n\u001b[1;32m---> 41\u001b[0m \u001b[38;5;129m@_inherit_docstrings\u001b[39m(pandas\u001b[38;5;241m.\u001b[39mcore\u001b[38;5;241m.\u001b[39marrays\u001b[38;5;241m.\u001b[39marrow\u001b[38;5;241m.\u001b[39mListAccessor)\n\u001b[0;32m     42\u001b[0m \u001b[38;5;28;01mclass\u001b[39;00m \u001b[38;5;21;01mListAccessor\u001b[39;00m(ClassLogger):\n\u001b[0;32m     43\u001b[0m     _series: Series\n\u001b[0;32m     44\u001b[0m     _query_compiler: BaseQueryCompiler\n",
      "\u001b[1;31mAttributeError\u001b[0m: module 'pandas.core.arrays.arrow' has no attribute 'ListAccessor'"
     ]
    }
   ],
   "source": [
    "import pandas as pd\n",
    "import modin.pandas as mpd\n",
    "\n",
    "# Timing pandas read_csv operation\n",
    "%time df = pd.read_csv(\"healthcare_dataset_new.csv\")\n",
    "\n",
    "# Timing Modin read_csv operation\n",
    "%time modin_df = mpd.read_csv(\"healthcare_dataset_new.csv\")"
   ]
  },
  {
   "cell_type": "code",
   "execution_count": null,
   "id": "1fe6a672-777c-433e-976c-b6da99922f41",
   "metadata": {},
   "outputs": [],
   "source": []
  }
 ],
 "metadata": {
  "kernelspec": {
   "display_name": "Python 3 (ipykernel)",
   "language": "python",
   "name": "python3"
  },
  "language_info": {
   "codemirror_mode": {
    "name": "ipython",
    "version": 3
   },
   "file_extension": ".py",
   "mimetype": "text/x-python",
   "name": "python",
   "nbconvert_exporter": "python",
   "pygments_lexer": "ipython3",
   "version": "3.12.4"
  }
 },
 "nbformat": 4,
 "nbformat_minor": 5
}
