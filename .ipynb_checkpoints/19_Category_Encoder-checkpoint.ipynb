{
 "cells": [
  {
   "cell_type": "raw",
   "id": "e763788b-2d13-4047-a495-185be0db7601",
   "metadata": {},
   "source": [
    "!pip install category_encoders"
   ]
  },
  {
   "cell_type": "code",
   "execution_count": null,
   "id": "7a90ab9e-2a00-4b7b-bb1b-d4cdd4cff176",
   "metadata": {},
   "outputs": [],
   "source": [
    "#https://pypi.org/project/category-encoders/\n",
    "#https://contrib.scikit-learn.org/category_encoders/\n",
    "#https://medium.com/anolytics/all-you-need-to-know-about-encoding-techniques-b3a0af68338b"
   ]
  },
  {
   "cell_type": "code",
   "execution_count": null,
   "id": "21394ec9-331d-4145-a547-2c8f724c0ba0",
   "metadata": {},
   "outputs": [],
   "source": [
    "\"\"\"Usage\n",
    "All of the encoders are fully compatible sklearn transformers, so they can be used in pipelines or in your existing scripts. Supported input formats include numpy arrays and pandas dataframes. If the cols parameter \n",
    "isn't passed, all columns with object or pandas categorical data type will be encoded\"\"\""
   ]
  },
  {
   "cell_type": "code",
   "execution_count": null,
   "id": "6e4d66da-3ec6-4249-b607-087f6bf10bb5",
   "metadata": {},
   "outputs": [],
   "source": [
    "\"\"\"There are two types of encoders: unsupervised and supervised\"\"\""
   ]
  },
  {
   "cell_type": "code",
   "execution_count": null,
   "id": "236be6b6-251b-420b-b3f1-304764a0f53f",
   "metadata": {},
   "outputs": [],
   "source": [
    "import category_encoders as ce\n",
    "\n",
    "encoder = ce.BackwardDifferenceEncoder(cols=[...])\n",
    "encoder = ce.BaseNEncoder(cols=[...])\n",
    "encoder = ce.BinaryEncoder(cols=[...])\n",
    "encoder = ce.CatBoostEncoder(cols=[...])\n",
    "encoder = ce.CountEncoder(cols=[...])\n",
    "encoder = ce.GLMMEncoder(cols=[...])\n",
    "encoder = ce.GrayEncoder(cols=[...])\n",
    "encoder = ce.HashingEncoder(cols=[...])\n",
    "encoder = ce.HelmertEncoder(cols=[...])\n",
    "encoder = ce.JamesSteinEncoder(cols=[...])\n",
    "encoder = ce.LeaveOneOutEncoder(cols=[...])\n",
    "encoder = ce.MEstimateEncoder(cols=[...])\n",
    "encoder = ce.OneHotEncoder(cols=[...])\n",
    "encoder = ce.OrdinalEncoder(cols=[...])\n",
    "encoder = ce.PolynomialEncoder(cols=[...])\n",
    "encoder = ce.QuantileEncoder(cols=[...])\n",
    "encoder = ce.RankHotEncoder(cols=[...])\n",
    "encoder = ce.SumEncoder(cols=[...])\n",
    "encoder = ce.TargetEncoder(cols=[...])\n",
    "encoder = ce.WOEEncoder(cols=[...])\n",
    "\n",
    "encoder.fit(X, y)\n",
    "X_cleaned = encoder.transform(X_dirty)"
   ]
  },
  {
   "cell_type": "code",
   "execution_count": 10,
   "id": "20c96f73-07f8-4327-b53a-fb7a214397c1",
   "metadata": {},
   "outputs": [
    {
     "name": "stdout",
     "output_type": "stream",
     "text": [
      "Original Dataset:\n",
      "   Color Size  Price  Target\n",
      "0    Red    S     10       1\n",
      "1   Blue    M     15       0\n",
      "2  Green    L     20       1\n",
      "3   Blue    S     10       0\n",
      "4    Red    M     15       1\n"
     ]
    }
   ],
   "source": [
    "import pandas as pd\n",
    "\n",
    "# Sample dataset\n",
    "data = pd.DataFrame({\n",
    "    'Color': ['Red', 'Blue', 'Green', 'Blue', 'Red'],\n",
    "    'Size': ['S', 'M', 'L', 'S', 'M'],\n",
    "    'Price': [10, 15, 20, 10, 15],\n",
    "    'Target': [1, 0, 1, 0, 1]\n",
    "})\n",
    "\n",
    "print(\"Original Dataset:\")\n",
    "print(data)\n",
    "\n"
   ]
  },
  {
   "cell_type": "code",
   "execution_count": 12,
   "id": "cdb2bb3b-09fd-4460-b87c-cfdd569e4942",
   "metadata": {},
   "outputs": [
    {
     "name": "stdout",
     "output_type": "stream",
     "text": [
      "\n",
      "One-Hot Encoded Dataset:\n",
      "   Color_Red  Color_Blue  Color_Green  Size_S  Size_M  Size_L  Price  Target\n",
      "0          1           0            0       1       0       0     10       1\n",
      "1          0           1            0       0       1       0     15       0\n",
      "2          0           0            1       0       0       1     20       1\n",
      "3          0           1            0       1       0       0     10       0\n",
      "4          1           0            0       0       1       0     15       1\n"
     ]
    }
   ],
   "source": [
    "# Applying One-Hot Encoding\n",
    "import category_encoders as ce\n",
    "\n",
    "# One-Hot Encoding\n",
    "one_hot_encoder = ce.OneHotEncoder(cols=['Color', 'Size'], use_cat_names=True)\n",
    "data_one_hot = one_hot_encoder.fit_transform(data)\n",
    "\n",
    "print(\"\\nOne-Hot Encoded Dataset:\")\n",
    "print(data_one_hot)"
   ]
  },
  {
   "cell_type": "code",
   "execution_count": 14,
   "id": "5731528a-670f-4e52-842b-51f62cc1dc3b",
   "metadata": {},
   "outputs": [
    {
     "name": "stdout",
     "output_type": "stream",
     "text": [
      "\n",
      "Target Encoded Dataset:\n",
      "   Price  Target     Color      Size\n",
      "0     10       1  0.656740  0.585815\n",
      "1     15       0  0.514889  0.585815\n",
      "2     20       1  0.652043  0.652043\n",
      "3     10       0  0.514889  0.585815\n",
      "4     15       1  0.656740  0.585815\n"
     ]
    }
   ],
   "source": [
    "# Target Encoding\n",
    "target_encoder = ce.TargetEncoder(cols=['Color', 'Size'])\n",
    "data_target_encoded = target_encoder.fit_transform(data[['Color', 'Size']], data['Target'])\n",
    "\n",
    "# Concatenate encoded features with the original dataset\n",
    "data_target_encoded = pd.concat([data[['Price', 'Target']], data_target_encoded], axis=1)\n",
    "\n",
    "print(\"\\nTarget Encoded Dataset:\")\n",
    "print(data_target_encoded)\n"
   ]
  },
  {
   "cell_type": "code",
   "execution_count": 16,
   "id": "ad3666c2-a7fb-4429-a66d-191e00c4fc55",
   "metadata": {},
   "outputs": [
    {
     "name": "stdout",
     "output_type": "stream",
     "text": [
      "\n",
      "Ordinal Encoded Dataset:\n",
      "   Color  Size  Price  Target\n",
      "0      1     1     10       1\n",
      "1      2     2     15       0\n",
      "2      3     3     20       1\n",
      "3      2     1     10       0\n",
      "4      1     2     15       1\n"
     ]
    }
   ],
   "source": [
    "# Ordinal Encoding\n",
    "ordinal_encoder = ce.OrdinalEncoder(cols=['Color', 'Size'])\n",
    "data_ordinal_encoded = ordinal_encoder.fit_transform(data)\n",
    "\n",
    "print(\"\\nOrdinal Encoded Dataset:\")\n",
    "print(data_ordinal_encoded)\n"
   ]
  },
  {
   "cell_type": "code",
   "execution_count": 18,
   "id": "233b2abd-b938-4eb4-a84d-d2d86310c284",
   "metadata": {},
   "outputs": [
    {
     "name": "stdout",
     "output_type": "stream",
     "text": [
      "\n",
      "CatBoost Encoded Dataset:\n",
      "   Price  Target  Color  Size\n",
      "0     10       1    0.6   0.6\n",
      "1     15       0    0.6   0.6\n",
      "2     20       1    0.6   0.6\n",
      "3     10       0    0.3   0.8\n",
      "4     15       1    0.8   0.3\n"
     ]
    }
   ],
   "source": [
    "# CatBoost Encoding\n",
    "catboost_encoder = ce.CatBoostEncoder(cols=['Color', 'Size'])\n",
    "data_catboost_encoded = catboost_encoder.fit_transform(data[['Color', 'Size']], data['Target'])\n",
    "\n",
    "# Concatenate encoded features with the original dataset\n",
    "data_catboost_encoded = pd.concat([data[['Price', 'Target']], data_catboost_encoded], axis=1)\n",
    "\n",
    "print(\"\\nCatBoost Encoded Dataset:\")\n",
    "print(data_catboost_encoded)\n"
   ]
  },
  {
   "cell_type": "code",
   "execution_count": 20,
   "id": "196080db-bcc9-4b1c-af5d-3cb388ee6dcd",
   "metadata": {},
   "outputs": [
    {
     "data": {
      "text/plain": [
       "pandas.core.frame.DataFrame"
      ]
     },
     "execution_count": 20,
     "metadata": {},
     "output_type": "execute_result"
    }
   ],
   "source": [
    "type(data_catboost_encoded)"
   ]
  },
  {
   "cell_type": "code",
   "execution_count": null,
   "id": "b3007538-8c97-4b21-9cc4-b48d0fd5c5f1",
   "metadata": {},
   "outputs": [],
   "source": []
  }
 ],
 "metadata": {
  "kernelspec": {
   "display_name": "Python 3 (ipykernel)",
   "language": "python",
   "name": "python3"
  },
  "language_info": {
   "codemirror_mode": {
    "name": "ipython",
    "version": 3
   },
   "file_extension": ".py",
   "mimetype": "text/x-python",
   "name": "python",
   "nbconvert_exporter": "python",
   "pygments_lexer": "ipython3",
   "version": "3.12.4"
  }
 },
 "nbformat": 4,
 "nbformat_minor": 5
}
