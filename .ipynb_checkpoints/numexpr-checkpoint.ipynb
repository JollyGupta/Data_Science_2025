{
 "cells": [
  {
   "cell_type": "markdown",
   "id": "cca03915-8bc9-4100-a627-f8f2177e4d44",
   "metadata": {},
   "source": [
    "## the numexpr library is used in the data science industry, especially when performance and efficiency are critical for numerical computations. While it is not as commonly mentioned as libraries like pandas, numpy, or scikit-learn, it plays a specific role in optimizing mathematical computations involving large datasets."
   ]
  },
  {
   "cell_type": "markdown",
   "id": "1c89b01f-8027-44da-a608-189c4a293059",
   "metadata": {},
   "source": [
    "##  Why is numexpr used in data science?\n",
    "\n",
    "## Performance on Large Datasets: When dealing with very large arrays or datasets, numexpr can execute operations faster than NumPy by avoiding the creation of intermediate arrays.\n",
    "## For example, a complex expression like (a + b) * c / d in NumPy would create multiple intermediate arrays, while numexpr evaluates it directly.\n",
    "\n",
    "## Memory Efficiency:\n",
    "## Avoids the memory overhead caused by temporary arrays in NumPy, which is crucial when working with large datasets that may not fit in memory.\n",
    "\n",
    "\n",
    "## Parallelism:\n",
    "## Takes advantage of multiple CPU cores to execute operations faster.\n",
    "\n",
    "## Compatibility with Popular Libraries:\n",
    "## Often used as a backend in libraries like pandas to speed up operations such as filtering, aggregations, and mathematical calculations.\n",
    "\n",
    "## Embedded Systems:\n",
    "## Useful in environments with limited memory and processing power, such as edge computing.\n",
    " \n",
    "## Scientific and Financial Applications:\n",
    "## Used in areas like physics simulations, financial modeling, and machine learning pipelines where matrix computations are frequent."
   ]
  },
  {
   "cell_type": "raw",
   "id": "c3689f58-c1ab-439a-af32-b534b5d34e55",
   "metadata": {},
   "source": [
    "!Pip install numexpr"
   ]
  },
  {
   "cell_type": "code",
   "execution_count": 18,
   "id": "dcb93f39-eabb-4008-b9bc-403660f3441c",
   "metadata": {},
   "outputs": [],
   "source": [
    "import numpy as np\n",
    "import numexpr as ne"
   ]
  },
  {
   "cell_type": "raw",
   "id": "bde90460-5a0d-4e55-bdaf-58e7ef85ba48",
   "metadata": {},
   "source": [
    "# Create large arrays\n",
    "a = np.random.rand(10**6)\n",
    "b = np.random.rand(10**6)\n",
    "c = np.random.rand(10**6)\n",
    "\n",
    "# Evaluate a complex expression\n",
    "result = ne.evaluate(\"(a + b) * c\")\n",
    "\n",
    "%timeit print(result)\n",
    "# 265 μs ± 56.3 μs per loop (mean ± std. dev. of 7 runs, 1,000 loops each)"
   ]
  },
  {
   "cell_type": "code",
   "execution_count": 25,
   "id": "2b80cd4d-5827-40b5-b1e8-636fb74af832",
   "metadata": {},
   "outputs": [
    {
     "name": "stdout",
     "output_type": "stream",
     "text": [
      "9.53 ms ± 604 μs per loop (mean ± std. dev. of 7 runs, 100 loops each)\n"
     ]
    }
   ],
   "source": [
    "# Create large arrays\n",
    "a = np.random.rand(10**6)\n",
    "b = np.random.rand(10**6)\n",
    "c = np.random.rand(10**6)\n",
    "\n",
    "# Evaluate a complex expression\n",
    "result = (a + b) * c\n",
    "\n",
    "# Measure execution time\n",
    "%timeit (a + b) * c\n",
    "#9.53 ms ± 604 μs per loop (mean ± std. dev. of 7 runs, 100 loops each)"
   ]
  },
  {
   "cell_type": "code",
   "execution_count": null,
   "id": "077d185e-2069-4eb8-a14a-094036e42b1b",
   "metadata": {},
   "outputs": [],
   "source": []
  },
  {
   "cell_type": "code",
   "execution_count": null,
   "id": "a0ffedb4-99de-41df-b8fb-5b32ef6e3387",
   "metadata": {},
   "outputs": [],
   "source": []
  },
  {
   "cell_type": "code",
   "execution_count": null,
   "id": "b994432a-b8df-42b6-8127-000c19e88eb6",
   "metadata": {},
   "outputs": [],
   "source": []
  },
  {
   "cell_type": "code",
   "execution_count": null,
   "id": "f7855412-cebb-4f81-ab0f-d9997b2d9ecf",
   "metadata": {},
   "outputs": [],
   "source": []
  },
  {
   "cell_type": "code",
   "execution_count": null,
   "id": "a11ab179-6a2b-40ad-ba83-962e88c61d25",
   "metadata": {},
   "outputs": [],
   "source": []
  }
 ],
 "metadata": {
  "kernelspec": {
   "display_name": "Python 3 (ipykernel)",
   "language": "python",
   "name": "python3"
  },
  "language_info": {
   "codemirror_mode": {
    "name": "ipython",
    "version": 3
   },
   "file_extension": ".py",
   "mimetype": "text/x-python",
   "name": "python",
   "nbconvert_exporter": "python",
   "pygments_lexer": "ipython3",
   "version": "3.12.4"
  }
 },
 "nbformat": 4,
 "nbformat_minor": 5
}
