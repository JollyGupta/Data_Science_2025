{
 "cells": [
  {
   "cell_type": "code",
   "execution_count": 7,
   "id": "0572c222-237b-4b1a-a864-2112daaee572",
   "metadata": {},
   "outputs": [
    {
     "name": "stdout",
     "output_type": "stream",
     "text": [
      "The Yellowbrick library is especially useful for machine learning visualization, providing tools that go beyond standard data visualization libraries like pandas, numpy, matplotlib, and seaborn. While those libraries excel at general plotting, Yellowbrick is tailored to the data science workflow, focusing on diagnosing models, evaluating feature importance, and understanding data distributions specifically in the context of machine learning.\n"
     ]
    }
   ],
   "source": [
    "#pip install contractions\n",
    "import contractions\n",
    "\n",
    "text= \"The Yellowbrick library is especially useful for machine learning visualization, providing tools that go beyond standard data visualization libraries like pandas, numpy, matplotlib, and seaborn. While those libraries excel at general plotting, Yellowbrick is tailored to the data science workflow, focusing on diagnosing models, evaluating feature importance, and understanding data distributions specifically in the context of machine learning.\"\n",
    "expanded_text = contractions.fix(text)\n",
    "print(expanded_text)"
   ]
  },
  {
   "cell_type": "code",
   "execution_count": 13,
   "id": "3c26090b-2c17-4054-b139-c4d874b50de4",
   "metadata": {},
   "outputs": [
    {
     "data": {
      "text/markdown": [
       "**The Yellowbrick library is especially useful for machine learning visualization, providing tools that go beyond standard data visualization libraries like pandas, numpy, matplotlib, and seaborn. While those libraries excel at general plotting, Yellowbrick is tailored to the data science workflow, focusing on diagnosing models, evaluating feature importance, and understanding data distributions specifically in the context of machine learning.**"
      ],
      "text/plain": [
       "<IPython.core.display.Markdown object>"
      ]
     },
     "execution_count": 13,
     "metadata": {},
     "output_type": "execute_result"
    }
   ],
   "source": [
    "from IPython.display import Markdown, display,HTML\n",
    "# Wrap the text in Markdown syntax for bold\n",
    "Markdown(f\"**{expanded_text}**\")"
   ]
  },
  {
   "cell_type": "code",
   "execution_count": 19,
   "id": "bef48286-fdf4-46a8-99ca-b8108426956a",
   "metadata": {},
   "outputs": [
    {
     "data": {
      "text/html": [
       "<b><span style='color:blue;'>The Yellowbrick library is especially useful for machine learning visualization, providing tools that go beyond standard data visualization libraries like pandas, numpy, matplotlib, and seaborn. While those libraries excel at general plotting, Yellowbrick is tailored to the data science workflow, focusing on diagnosing models, evaluating feature importance, and understanding data distributions specifically in the context of machine learning.</span></b>"
      ],
      "text/plain": [
       "<IPython.core.display.HTML object>"
      ]
     },
     "metadata": {},
     "output_type": "display_data"
    }
   ],
   "source": [
    "# Apply bold and color using HTML directly\n",
    "html_text = f\"<b><span style='color:blue;'>{expanded_text}</span></b>\"\n",
    "\n",
    "# Display the formatted text\n",
    "display(HTML(html_text))"
   ]
  },
  {
   "cell_type": "markdown",
   "id": "1ef04a69-a9dc-4d1a-b3e5-6b024b9704d6",
   "metadata": {},
   "source": [
    "[Yellow Brick Link](https://www.scikit-yb.org/en/latest/)"
   ]
  },
  {
   "cell_type": "markdown",
   "id": "9ceda1bf-0309-4710-b2d0-9986ad822e40",
   "metadata": {},
   "source": []
  },
  {
   "cell_type": "code",
   "execution_count": null,
   "id": "be8508f7-1148-4f29-92e5-971722f116e8",
   "metadata": {},
   "outputs": [],
   "source": []
  },
  {
   "cell_type": "code",
   "execution_count": null,
   "id": "8ef91150-c132-412c-9232-32c4478f3f94",
   "metadata": {},
   "outputs": [],
   "source": []
  },
  {
   "cell_type": "code",
   "execution_count": null,
   "id": "e2ed356c-5e75-4d93-990f-890bdacffdc1",
   "metadata": {},
   "outputs": [],
   "source": []
  }
 ],
 "metadata": {
  "kernelspec": {
   "display_name": "Python 3 (ipykernel)",
   "language": "python",
   "name": "python3"
  },
  "language_info": {
   "codemirror_mode": {
    "name": "ipython",
    "version": 3
   },
   "file_extension": ".py",
   "mimetype": "text/x-python",
   "name": "python",
   "nbconvert_exporter": "python",
   "pygments_lexer": "ipython3",
   "version": "3.12.4"
  }
 },
 "nbformat": 4,
 "nbformat_minor": 5
}
