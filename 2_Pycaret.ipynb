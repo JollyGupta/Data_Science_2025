{
 "cells": [
  {
   "cell_type": "markdown",
   "id": "12b43fd7-d3d8-4d7e-a9d3-fef02a090326",
   "metadata": {},
   "source": [
    "**PyCaret is an alternate low-code library that can replace hundreds of lines of code with a few lines only. \n",
    "This makes experiments exponentially faster and more efficient. PyCaret is essentially a Python wrapper around several machine learning libraries and frameworks such as scikit-learn, \n",
    "XGBoost, LightGBM, CatBoost, spaCy, Optuna, Hyperopt, Ray, and a few more.**"
   ]
  },
  {
   "cell_type": "markdown",
   "id": "ed2a5f23-9ef1-4dd5-b093-95c0255ffd5f",
   "metadata": {},
   "source": [
    "**All the operations performed in PyCaret are sequentially stored in a pipeline that is fully orchestrated for deployment. Whether it’s imputing missing values, transforming categorical data, feature engineering, or even hyperparameter tuning, PyCaret automates all of it.**"
   ]
  },
  {
   "cell_type": "code",
   "execution_count": 4,
   "id": "14da738d-8c30-4864-9bba-33ab92628f0e",
   "metadata": {},
   "outputs": [
    {
     "name": "stdout",
     "output_type": "stream",
     "text": [
      "^C\n",
      "Note: you may need to restart the kernel to use updated packages.\n"
     ]
    }
   ],
   "source": [
    "pip install pycaret"
   ]
  },
  {
   "cell_type": "code",
   "execution_count": 5,
   "id": "3ff84c73-c995-4ca6-a31d-d115ea6a62e1",
   "metadata": {},
   "outputs": [],
   "source": [
    "#https://www.analyticsvidhya.com/blog/2020/05/pycaret-machine-learning-model-seconds/\n"
   ]
  },
  {
   "cell_type": "code",
   "execution_count": null,
   "id": "0b9914f9-1568-44d6-9eee-e0e487dd94bd",
   "metadata": {},
   "outputs": [],
   "source": [
    "import pandas as pd"
   ]
  },
  {
   "cell_type": "code",
   "execution_count": null,
   "id": "9d8d8f34-1933-4818-939b-e454d60c8ab3",
   "metadata": {},
   "outputs": [],
   "source": [
    "#https://pycaret.org/\n",
    "# not working\n",
    "#https://www.datacamp.com/tutorial/guide-for-automating-ml-workflows-using-pycaret"
   ]
  },
  {
   "cell_type": "code",
   "execution_count": null,
   "id": "2328c717-45e5-4666-a6a4-48768bb434d4",
   "metadata": {},
   "outputs": [],
   "source": [
    "#pip install pycaret[full]"
   ]
  },
  {
   "cell_type": "code",
   "execution_count": 11,
   "id": "9d1d32a4-6208-48ba-be45-2b0629bb6810",
   "metadata": {},
   "outputs": [
    {
     "ename": "ModuleNotFoundError",
     "evalue": "No module named 'pycaret'",
     "output_type": "error",
     "traceback": [
      "\u001b[1;31m---------------------------------------------------------------------------\u001b[0m",
      "\u001b[1;31mModuleNotFoundError\u001b[0m                       Traceback (most recent call last)",
      "Cell \u001b[1;32mIn[11], line 1\u001b[0m\n\u001b[1;32m----> 1\u001b[0m \u001b[38;5;28;01mfrom\u001b[39;00m \u001b[38;5;21;01mpycaret\u001b[39;00m\u001b[38;5;21;01m.\u001b[39;00m\u001b[38;5;21;01mdatasets\u001b[39;00m \u001b[38;5;28;01mimport\u001b[39;00m get_data\n\u001b[0;32m      2\u001b[0m all_datasets \u001b[38;5;241m=\u001b[39m get_data(\u001b[38;5;124m'\u001b[39m\u001b[38;5;124mindex\u001b[39m\u001b[38;5;124m'\u001b[39m)\n\u001b[0;32m      3\u001b[0m data \u001b[38;5;241m=\u001b[39m get_data(\u001b[38;5;124m'\u001b[39m\u001b[38;5;124mdiamond\u001b[39m\u001b[38;5;124m'\u001b[39m)\n",
      "\u001b[1;31mModuleNotFoundError\u001b[0m: No module named 'pycaret'"
     ]
    }
   ],
   "source": [
    "from pycaret.datasets import get_data\n",
    "all_datasets = get_data('index')\n",
    "data = get_data('diamond')"
   ]
  },
  {
   "cell_type": "code",
   "execution_count": null,
   "id": "198b1d9b-8f2f-40d8-9e67-250c835fb47c",
   "metadata": {},
   "outputs": [],
   "source": [
    "all_datasets = get_data('index')\n",
    "juice = get_data('juice')"
   ]
  },
  {
   "cell_type": "code",
   "execution_count": null,
   "id": "341a0470-77c6-4fac-95e8-900647a686c0",
   "metadata": {},
   "outputs": [],
   "source": []
  },
  {
   "cell_type": "code",
   "execution_count": null,
   "id": "69707388-5db2-47cb-aa8f-a4f908b1911f",
   "metadata": {},
   "outputs": [],
   "source": []
  }
 ],
 "metadata": {
  "kernelspec": {
   "display_name": "Python 3 (ipykernel)",
   "language": "python",
   "name": "python3"
  },
  "language_info": {
   "codemirror_mode": {
    "name": "ipython",
    "version": 3
   },
   "file_extension": ".py",
   "mimetype": "text/x-python",
   "name": "python",
   "nbconvert_exporter": "python",
   "pygments_lexer": "ipython3",
   "version": "3.12.4"
  }
 },
 "nbformat": 4,
 "nbformat_minor": 5
}
